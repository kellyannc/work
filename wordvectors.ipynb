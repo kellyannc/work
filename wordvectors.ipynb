{
  "nbformat": 4,
  "nbformat_minor": 0,
  "metadata": {
    "colab": {
      "provenance": [],
      "authorship_tag": "ABX9TyP/47VK8PbuUlT1UPLWHsRD",
      "include_colab_link": true
    },
    "kernelspec": {
      "name": "python3",
      "display_name": "Python 3"
    },
    "language_info": {
      "name": "python"
    }
  },
  "cells": [
    {
      "cell_type": "markdown",
      "metadata": {
        "id": "view-in-github",
        "colab_type": "text"
      },
      "source": [
        "<a href=\"https://colab.research.google.com/github/kellyannc/work/blob/main/wordvectors.ipynb\" target=\"_parent\"><img src=\"https://colab.research.google.com/assets/colab-badge.svg\" alt=\"Open In Colab\"/></a>"
      ]
    },
    {
      "cell_type": "code",
      "execution_count": null,
      "metadata": {
        "id": "A0ibF8AEp8CU"
      },
      "outputs": [],
      "source": [
        "import re\n",
        "import nltk\n",
        "import numpy as np\n",
        "import matplotlib.pyplot as plt\n",
        "import random\n",
        "\n",
        "from gensim.models import Word2Vec\n",
        "\n",
        "from sklearn.decomposition import IncrementalPCA\n",
        "from sklearn.manifold import TSNE"
      ]
    },
    {
      "cell_type": "code",
      "source": [
        "import nltk\n",
        "nltk.download('punkt')"
      ],
      "metadata": {
        "colab": {
          "base_uri": "https://localhost:8080/"
        },
        "id": "NBOrGoeQAjZX",
        "outputId": "b4f63ffe-e9c1-4b43-9789-abf4e22c9105"
      },
      "execution_count": null,
      "outputs": [
        {
          "output_type": "stream",
          "name": "stderr",
          "text": [
            "[nltk_data] Downloading package punkt to /root/nltk_data...\n",
            "[nltk_data]   Unzipping tokenizers/punkt.zip.\n"
          ]
        },
        {
          "output_type": "execute_result",
          "data": {
            "text/plain": [
              "True"
            ]
          },
          "metadata": {},
          "execution_count": 8
        }
      ]
    },
    {
      "cell_type": "code",
      "source": [
        "# read a file you have stored locally\n",
        "# I added the Hunger Games for simplicity\n",
        "file = open(\"/content/sample_data/the_hunger_games_short.txt\", 'r').read()\n",
        "\n",
        "# first, remove unwanted new line and tab characters from the text\n",
        "for char in [\"\\n\", \"\\r\", \"\\d\", \"\\t\"]:\n",
        "    file = file.replace(char, \" \")\n",
        "\n",
        "# check\n",
        "print(file[:100])"
      ],
      "metadata": {
        "colab": {
          "base_uri": "https://localhost:8080/"
        },
        "id": "1YlwnRIvAHrY",
        "outputId": "8f7b6de0-2217-40ad-d095-30fba1a81bd4"
      },
      "execution_count": null,
      "outputs": [
        {
          "output_type": "stream",
          "name": "stdout",
          "text": [
            "The Hunger Games   The Hunger Games 1by Suzanne Collins  PART I\"THE TRIBUTES\"  1.  When I wake up, t\n"
          ]
        }
      ]
    },
    {
      "cell_type": "code",
      "source": [
        "# this is simplified for demonstration\n",
        "def sample_clean_text(text: str):\n",
        "    # step 1: tokenize the text into sentences\n",
        "    sentences = nltk.sent_tokenize(text)\n",
        "\n",
        "    # step 2: tokenize each sentence into words\n",
        "    tokenized_sentences = [nltk.word_tokenize(sent) for sent in sentences]\n",
        "\n",
        "    # step 3: convert each word to lowercase\n",
        "    tokenized_text = [[word.lower() for word in sent] for sent in tokenized_sentences]\n",
        "\n",
        "    # return your tokens\n",
        "    return tokenized_text\n",
        "\n",
        "# call the function\n",
        "tokens = sample_clean_text(text = file)\n",
        "\n",
        "# check\n",
        "print(tokens[:10])"
      ],
      "metadata": {
        "colab": {
          "base_uri": "https://localhost:8080/"
        },
        "id": "ozHs3_ezARn-",
        "outputId": "e3449985-5094-45db-863a-d56ba79e3799"
      },
      "execution_count": null,
      "outputs": [
        {
          "output_type": "stream",
          "name": "stdout",
          "text": [
            "[['the', 'hunger', 'games', 'the', 'hunger', 'games', '1by', 'suzanne', 'collins', 'part', 'i', \"''\", 'the', 'tributes', \"''\", '1', '.'], ['when', 'i', 'wake', 'up', ',', 'the', 'other', 'side', 'of', 'the', 'bed', 'is', 'cold', '.'], ['my', 'fingers', 'stretch', 'out', ',', 'seeking', 'prims', 'warmth', 'but', 'finding', 'only', 'the', 'rough', 'canvas', 'cover', 'of', 'the', 'mattress', '.'], ['she', 'must', 'have', 'had', 'bad', 'dreams', 'and', 'climbed', 'in', 'with', 'our', 'mother', '.'], ['of', 'course', ',', 'she', 'did', '.'], ['this', 'is', 'the', 'day', 'of', 'the', 'reaping', '.'], ['i', 'prop', 'myself', 'up', 'on', 'one', 'elbow', '.'], ['theres', 'enough', 'light', 'in', 'the', 'bedroom', 'to', 'see', 'them', '.'], ['my', 'little', 'sister', ',', 'prim', ',', 'curled', 'up', 'on', 'her', 'side', ',', 'cocooned', 'in', 'my', 'mothers', 'body', ',', 'their', 'cheeks', 'pressed', 'together', '.'], ['in', 'sleep', ',', 'my', 'mother', 'looks', 'younger', ',', 'still', 'worn', 'but', 'not', 'so', 'beaten-down', '.']]\n"
          ]
        }
      ]
    },
    {
      "cell_type": "code",
      "source": [
        "model = Word2Vec(tokens,vector_size=100)"
      ],
      "metadata": {
        "id": "R1Vyp4wDAtu8"
      },
      "execution_count": null,
      "outputs": []
    },
    {
      "cell_type": "code",
      "source": [
        "model.wv.key_to_index"
      ],
      "metadata": {
        "colab": {
          "base_uri": "https://localhost:8080/"
        },
        "id": "cN0WM-dLAwnx",
        "outputId": "cf5a6551-ce3c-4bc1-c9d1-1b55ccc71d1e"
      },
      "execution_count": null,
      "outputs": [
        {
          "output_type": "execute_result",
          "data": {
            "text/plain": [
              "{'.': 0,\n",
              " ',': 1,\n",
              " 'the': 2,\n",
              " 'i': 3,\n",
              " 'to': 4,\n",
              " 'and': 5,\n",
              " 'a': 6,\n",
              " 'of': 7,\n",
              " 'in': 8,\n",
              " 'my': 9,\n",
              " 'it': 10,\n",
              " 'but': 11,\n",
              " 'for': 12,\n",
              " 'is': 13,\n",
              " 'on': 14,\n",
              " 'that': 15,\n",
              " 'with': 16,\n",
              " 'me': 17,\n",
              " 'her': 18,\n",
              " 'he': 19,\n",
              " 'at': 20,\n",
              " 'we': 21,\n",
              " 'you': 22,\n",
              " 'as': 23,\n",
              " 'was': 24,\n",
              " 'be': 25,\n",
              " 'have': 26,\n",
              " 'his': 27,\n",
              " 'one': 28,\n",
              " 'from': 29,\n",
              " 'not': 30,\n",
              " '?': 31,\n",
              " 'this': 32,\n",
              " 'its': 33,\n",
              " 'up': 34,\n",
              " 'if': 35,\n",
              " 'had': 36,\n",
              " 'they': 37,\n",
              " 'out': 38,\n",
              " 'she': 39,\n",
              " 'can': 40,\n",
              " 'prim': 41,\n",
              " 'so': 42,\n",
              " 'us': 43,\n",
              " 'him': 44,\n",
              " 'are': 45,\n",
              " 'says': 46,\n",
              " 'no': 47,\n",
              " 'back': 48,\n",
              " 'into': 49,\n",
              " 'when': 50,\n",
              " 'all': 51,\n",
              " 'district': 52,\n",
              " 'then': 53,\n",
              " 'were': 54,\n",
              " 'our': 55,\n",
              " 'who': 56,\n",
              " 'will': 57,\n",
              " 'or': 58,\n",
              " '!': 59,\n",
              " 'mother': 60,\n",
              " 'peeta': 61,\n",
              " 'even': 62,\n",
              " 'them': 63,\n",
              " 'just': 64,\n",
              " 'by': 65,\n",
              " 'has': 66,\n",
              " 'because': 67,\n",
              " 'say': 68,\n",
              " 'been': 69,\n",
              " 'only': 70,\n",
              " 'do': 71,\n",
              " 'never': 72,\n",
              " 'about': 73,\n",
              " 'gale': 74,\n",
              " 'what': 75,\n",
              " 'an': 76,\n",
              " 'there': 77,\n",
              " 'haymitch': 78,\n",
              " 'like': 79,\n",
              " 'their': 80,\n",
              " 'would': 81,\n",
              " 'time': 82,\n",
              " 'dont': 83,\n",
              " 'bread': 84,\n",
              " 'know': 85,\n",
              " 'people': 86,\n",
              " 'could': 87,\n",
              " 'capitol': 88,\n",
              " 'off': 89,\n",
              " 'your': 90,\n",
              " 'get': 91,\n",
              " 'im': 92,\n",
              " 'more': 93,\n",
              " 'see': 94,\n",
              " 'hes': 95,\n",
              " 'effie': 96,\n",
              " 'well': 97,\n",
              " 'how': 98,\n",
              " 'now': 99,\n",
              " 'home': 100,\n",
              " 'take': 101,\n",
              " 'day': 102,\n",
              " 'father': 103,\n",
              " 'myself': 104,\n",
              " 'two': 105,\n",
              " 'trinket': 106,\n",
              " 'woods': 107,\n",
              " 'come': 108,\n",
              " 'too': 109,\n",
              " 'reaping': 110,\n",
              " 'some': 111,\n",
              " 'still': 112,\n",
              " 'cant': 113,\n",
              " 'way': 114,\n",
              " 'think': 115,\n",
              " 'theres': 116,\n",
              " 'enough': 117,\n",
              " 'year': 118,\n",
              " 'few': 119,\n",
              " '12': 120,\n",
              " 'must': 121,\n",
              " 'once': 122,\n",
              " 'other': 123,\n",
              " 'little': 124,\n",
              " 'shes': 125,\n",
              " 'make': 126,\n",
              " 'ive': 127,\n",
              " 'around': 128,\n",
              " 'good': 129,\n",
              " 'seam': 130,\n",
              " 'since': 131,\n",
              " 'years': 132,\n",
              " 'over': 133,\n",
              " 'name': 134,\n",
              " 'train': 135,\n",
              " 'face': 136,\n",
              " 'did': 137,\n",
              " 'go': 138,\n",
              " 'through': 139,\n",
              " 'school': 140,\n",
              " 'always': 141,\n",
              " 'look': 142,\n",
              " 'let': 143,\n",
              " 'eyes': 144,\n",
              " 'away': 145,\n",
              " 'made': 146,\n",
              " 'thing': 147,\n",
              " 'might': 148,\n",
              " 'where': 149,\n",
              " 'ill': 150,\n",
              " 'being': 151,\n",
              " 'place': 152,\n",
              " 'those': 153,\n",
              " 'before': 154,\n",
              " 'another': 155,\n",
              " 'small': 156,\n",
              " 'really': 157,\n",
              " 'games': 158,\n",
              " 'down': 159,\n",
              " 'much': 160,\n",
              " 'every': 161,\n",
              " 'first': 162,\n",
              " 'right': 163,\n",
              " 'hair': 164,\n",
              " 'help': 165,\n",
              " 'going': 166,\n",
              " 'anything': 167,\n",
              " 'boy': 168,\n",
              " 'didnt': 169,\n",
              " 'hands': 170,\n",
              " 'than': 171,\n",
              " 'want': 172,\n",
              " 'which': 173,\n",
              " 'something': 174,\n",
              " 'each': 175,\n",
              " 'trying': 176,\n",
              " 'stage': 177,\n",
              " 'kids': 178,\n",
              " 'old': 179,\n",
              " 'keep': 180,\n",
              " 'almost': 181,\n",
              " 'last': 182,\n",
              " 'mellark': 183,\n",
              " 'someone': 184,\n",
              " 'between': 185,\n",
              " 'room': 186,\n",
              " 'death': 187,\n",
              " 'head': 188,\n",
              " 'feel': 189,\n",
              " 'districts': 190,\n",
              " 'again': 191,\n",
              " 'hand': 192,\n",
              " 'thats': 193,\n",
              " 'tributes': 194,\n",
              " 'maybe': 195,\n",
              " 'doesnt': 196,\n",
              " 'food': 197,\n",
              " 'put': 198,\n",
              " 'remember': 199,\n",
              " 'voice': 200,\n",
              " 'dress': 201,\n",
              " 'table': 202,\n",
              " 'id': 203,\n",
              " 'course': 204,\n",
              " 'hunting': 205,\n",
              " 'prims': 206,\n",
              " 'katniss': 207,\n",
              " 'any': 208,\n",
              " 'moment': 209,\n",
              " 'door': 210,\n",
              " 'theyre': 211,\n",
              " 'very': 212,\n",
              " 'bed': 213,\n",
              " 'live': 214,\n",
              " 'while': 215,\n",
              " 'times': 216,\n",
              " 'until': 217,\n",
              " 'family': 218,\n",
              " 'hunger': 219,\n",
              " 'turn': 220,\n",
              " 'seen': 221,\n",
              " 'girl': 222,\n",
              " 'tesserae': 223,\n",
              " 'fish': 224,\n",
              " 'most': 225,\n",
              " 'hold': 226,\n",
              " 'kill': 227,\n",
              " 'tribute': 228,\n",
              " 'hard': 229,\n",
              " 'coal': 230,\n",
              " 'nothing': 231,\n",
              " 'bakery': 232,\n",
              " 'try': 233,\n",
              " 'crowd': 234,\n",
              " 'called': 235,\n",
              " 'behind': 236,\n",
              " 'eat': 237,\n",
              " 'why': 238,\n",
              " 'leave': 239,\n",
              " 'here': 240,\n",
              " 'watch': 241,\n",
              " 'best': 242,\n",
              " 'arms': 243,\n",
              " 'hob': 244,\n",
              " 'ago': 245,\n",
              " 'big': 246,\n",
              " 'slip': 247,\n",
              " 'today': 248,\n",
              " 'three': 249,\n",
              " 'matter': 250,\n",
              " 'real': 251,\n",
              " 'panem': 252,\n",
              " 'morning': 253,\n",
              " 'stand': 254,\n",
              " 'knife': 255,\n",
              " 'inside': 256,\n",
              " 'against': 257,\n",
              " 'find': 258,\n",
              " 'may': 259,\n",
              " 'madge': 260,\n",
              " 'after': 261,\n",
              " 'game': 262,\n",
              " 'better': 263,\n",
              " 'same': 264,\n",
              " 'wont': 265,\n",
              " 'does': 266,\n",
              " 'trade': 267,\n",
              " 'lot': 268,\n",
              " 'am': 269,\n",
              " 'seem': 270,\n",
              " 'names': 271,\n",
              " 'both': 272,\n",
              " 'supper': 273,\n",
              " 'ever': 274,\n",
              " 'mayor': 275,\n",
              " 'loaves': 276,\n",
              " 'dark': 277,\n",
              " 'greens': 278,\n",
              " 'grain': 279,\n",
              " 'peacekeepers': 280,\n",
              " 'market': 281,\n",
              " 'carefully': 282,\n",
              " 'fathers': 283,\n",
              " 'afford': 284,\n",
              " 'black': 285,\n",
              " 'reach': 286,\n",
              " 'kind': 287,\n",
              " 'toward': 288,\n",
              " 'money': 289,\n",
              " 'pin': 290,\n",
              " 'odds': 291,\n",
              " 'forward': 292,\n",
              " 'hear': 293,\n",
              " 'fingers': 294,\n",
              " 'twelve': 295,\n",
              " 'thought': 296,\n",
              " 'days': 297,\n",
              " 'night': 298,\n",
              " 'cry': 299,\n",
              " 'went': 300,\n",
              " 'clear': 301,\n",
              " 'wild': 302,\n",
              " 'couldnt': 303,\n",
              " 'glass': 304,\n",
              " 'hot': 305,\n",
              " 'bakers': 306,\n",
              " 'fence': 307,\n",
              " 'bird': 308,\n",
              " 'part': 309,\n",
              " 'care': 310,\n",
              " 'cheese': 311,\n",
              " 'hours': 312,\n",
              " 'next': 313,\n",
              " 'youre': 314,\n",
              " 'having': 315,\n",
              " 'strawberries': 316,\n",
              " 'got': 317,\n",
              " 'arena': 318,\n",
              " 'alive': 319,\n",
              " 'though': 320,\n",
              " 'least': 321,\n",
              " 'become': 322,\n",
              " 'feed': 323,\n",
              " 'mothers': 324,\n",
              " 'sits': 325,\n",
              " 'ball': 326,\n",
              " 'sister': 327,\n",
              " 'plants': 328,\n",
              " 'feet': 329,\n",
              " 'long': 330,\n",
              " 'probably': 331,\n",
              " 'under': 332,\n",
              " 'goat': 333,\n",
              " 'warm': 334,\n",
              " 'words': 335,\n",
              " 'bit': 336,\n",
              " 'things': 337,\n",
              " 'quickly': 338,\n",
              " 'clothes': 339,\n",
              " 'makes': 340,\n",
              " 'bow': 341,\n",
              " 'own': 342,\n",
              " 'done': 343,\n",
              " 'holds': 344,\n",
              " 'girls': 345,\n",
              " 'pull': 346,\n",
              " 'knew': 347,\n",
              " 'turned': 348,\n",
              " 'waiting': 349,\n",
              " 'life': 350,\n",
              " 'love': 351,\n",
              " 'blouse': 352,\n",
              " 'green': 353,\n",
              " 'fine': 354,\n",
              " 'gave': 355,\n",
              " 'sometimes': 356,\n",
              " 'open': 357,\n",
              " 'although': 358,\n",
              " 'stay': 359,\n",
              " 'instead': 360,\n",
              " 'volunteer': 361,\n",
              " 'idea': 362,\n",
              " 'meat': 363,\n",
              " 'far': 364,\n",
              " 'nose': 365,\n",
              " 'took': 366,\n",
              " 'already': 367,\n",
              " 'running': 368,\n",
              " 'else': 369,\n",
              " 'deep': 370,\n",
              " 'hunt': 371,\n",
              " 'finally': 372,\n",
              " 'stuff': 373,\n",
              " 'found': 374,\n",
              " 'asks': 375,\n",
              " 'set': 376,\n",
              " 'read': 377,\n",
              " 'hit': 378,\n",
              " 'such': 379,\n",
              " 'pulls': 380,\n",
              " 'gives': 381,\n",
              " 'falls': 382,\n",
              " 'suddenly': 383,\n",
              " 'son': 384,\n",
              " 'rich': 385,\n",
              " 'besides': 386,\n",
              " 'youll': 387,\n",
              " 'whole': 388,\n",
              " 'station': 389,\n",
              " 'attention': 390,\n",
              " 'left': 391,\n",
              " 'mines': 392,\n",
              " 'meadow': 393,\n",
              " 'eating': 394,\n",
              " 'work': 395,\n",
              " 'building': 396,\n",
              " 'red': 397,\n",
              " 'justice': 398,\n",
              " 'burned': 399,\n",
              " 'begin': 400,\n",
              " 'man': 401,\n",
              " 'wall': 402,\n",
              " 'dandelion': 403,\n",
              " 'pretty': 404,\n",
              " 'birds': 405,\n",
              " 'told': 406,\n",
              " 'volunteers': 407,\n",
              " 'fighting': 408,\n",
              " 'goes': 409,\n",
              " 'knows': 410,\n",
              " 'yes': 411,\n",
              " 'tonight': 412,\n",
              " 'wood': 413,\n",
              " 'lets': 414,\n",
              " 'tears': 415,\n",
              " 'buy': 416,\n",
              " 'sleep': 417,\n",
              " 'together': 418,\n",
              " 'bad': 419,\n",
              " 'deal': 420,\n",
              " 'exchange': 421,\n",
              " 'began': 422,\n",
              " 'months': 423,\n",
              " 'except': 424,\n",
              " 'spent': 425,\n",
              " 'oil': 426,\n",
              " 'takes': 427,\n",
              " 'rain': 428,\n",
              " 'sit': 429,\n",
              " 'cookies': 430,\n",
              " 'person': 431,\n",
              " 'amount': 432,\n",
              " 'couple': 433,\n",
              " 'point': 434,\n",
              " 'die': 435,\n",
              " 'light': 436,\n",
              " 'everyone': 437,\n",
              " 'ones': 438,\n",
              " 'white': 439,\n",
              " 'word': 440,\n",
              " 'said': 441,\n",
              " 'boys': 442,\n",
              " 'special': 443,\n",
              " 'also': 444,\n",
              " 'squirrel': 445,\n",
              " 'soft': 446,\n",
              " 'podium': 447,\n",
              " 'usually': 448,\n",
              " 'many': 449,\n",
              " 'blue': 450,\n",
              " 'faces': 451,\n",
              " 'streets': 452,\n",
              " 'isnt': 453,\n",
              " 'several': 454,\n",
              " 'hasnt': 455,\n",
              " 'taking': 456,\n",
              " 'favor': 457,\n",
              " 'front': 458,\n",
              " 'across': 459,\n",
              " 'sweet': 460,\n",
              " 'air': 461,\n",
              " 'bushes': 462,\n",
              " 'skin': 463,\n",
              " 'means': 464,\n",
              " 'meal': 465,\n",
              " 'stew': 466,\n",
              " 'protect': 467,\n",
              " 'shirt': 468,\n",
              " 'water': 469,\n",
              " 'rest': 470,\n",
              " 'strong': 471,\n",
              " 'gold': 472,\n",
              " 'arm': 473,\n",
              " 'tree': 474,\n",
              " 'herself': 475,\n",
              " 'thinking': 476,\n",
              " 'reapings': 477,\n",
              " 'bright': 478,\n",
              " 'give': 479,\n",
              " 'looking': 480,\n",
              " 'chair': 481,\n",
              " 'woman': 482,\n",
              " 'paper': 483,\n",
              " 'tried': 484,\n",
              " 'wasnt': 485,\n",
              " 'shot': 486,\n",
              " 'without': 487,\n",
              " 'along': 488,\n",
              " 'ask': 489,\n",
              " 'everything': 490,\n",
              " 'begins': 491,\n",
              " 'steps': 492,\n",
              " 'wear': 493,\n",
              " 'run': 494,\n",
              " 'window': 495}"
            ]
          },
          "metadata": {},
          "execution_count": 11
        }
      ]
    },
    {
      "cell_type": "code",
      "source": [
        "model.wv.get_vector(\"capitol\", norm=True)"
      ],
      "metadata": {
        "colab": {
          "base_uri": "https://localhost:8080/"
        },
        "id": "OTSrsABHA3Ih",
        "outputId": "b6653d95-0fd2-42df-9529-318a9186b3b8"
      },
      "execution_count": null,
      "outputs": [
        {
          "output_type": "execute_result",
          "data": {
            "text/plain": [
              "array([-1.59507707e-01,  2.12001074e-02, -3.27367298e-02,  2.92076617e-02,\n",
              "        3.34570594e-02, -1.40438482e-01,  7.24623352e-02,  2.66526431e-01,\n",
              "       -1.57373250e-01, -7.00440854e-02, -6.06394336e-02, -1.39040828e-01,\n",
              "       -6.35342225e-02, -1.76391453e-02,  5.43917008e-02, -4.72352915e-02,\n",
              "        6.45223483e-02, -7.25683942e-02, -6.64505735e-02, -2.75543511e-01,\n",
              "        1.08044475e-01,  7.24792406e-02,  1.16935536e-01, -6.81299567e-02,\n",
              "        1.02172438e-02,  6.40075281e-02, -6.44990355e-02, -7.32596293e-02,\n",
              "       -1.35528266e-01,  6.35884106e-02,  1.75110787e-01, -6.29465736e-04,\n",
              "        7.29048476e-02, -1.14944190e-01,  2.49970442e-04,  1.56985655e-01,\n",
              "        2.47363783e-02, -4.46903259e-02, -3.21755037e-02, -1.44555479e-01,\n",
              "        8.38310868e-02, -7.89336115e-02, -6.14368170e-02, -7.83049688e-03,\n",
              "        1.34679720e-01, -5.61832599e-02, -5.82238622e-02, -7.22137317e-02,\n",
              "        1.17142551e-01, -2.05865642e-03,  1.00390896e-01, -1.17055744e-01,\n",
              "       -3.60874720e-02, -1.70529094e-02, -3.61969322e-02,  7.91616812e-02,\n",
              "        7.87159428e-02, -2.25917399e-02, -1.34536922e-01,  3.13593149e-02,\n",
              "        5.67660369e-02, -1.86253432e-02,  1.03062764e-01, -8.68758410e-02,\n",
              "       -1.91474840e-01,  1.53112128e-01,  1.16073482e-01,  9.22833160e-02,\n",
              "       -2.15527430e-01,  1.52870625e-01, -9.92920175e-02,  2.80625504e-02,\n",
              "        1.31287917e-01,  1.05532892e-02,  1.30902037e-01,  3.44779715e-02,\n",
              "        1.16778980e-03,  3.79620492e-02, -9.71920937e-02, -3.40686999e-02,\n",
              "       -1.11979574e-01, -2.10418701e-02, -9.28935707e-02,  1.60591558e-01,\n",
              "       -6.28664345e-02, -1.50153190e-02,  9.99668911e-02,  8.92105624e-02,\n",
              "        8.26635510e-02, -2.09171642e-02,  1.80881530e-01,  9.35161635e-02,\n",
              "        2.15952694e-02,  1.16368486e-02,  2.47988030e-01,  9.88513976e-02,\n",
              "        2.99440771e-02, -9.65344012e-02,  1.03029516e-02,  3.69284451e-02],\n",
              "      dtype=float32)"
            ]
          },
          "metadata": {},
          "execution_count": 12
        }
      ]
    },
    {
      "cell_type": "code",
      "source": [
        "model.wv.most_similar('capitol')"
      ],
      "metadata": {
        "colab": {
          "base_uri": "https://localhost:8080/"
        },
        "id": "9KANrjrWA6D5",
        "outputId": "e0e25012-8934-4d26-be46-0352fec38732"
      },
      "execution_count": null,
      "outputs": [
        {
          "output_type": "execute_result",
          "data": {
            "text/plain": [
              "[('and', 0.9989700317382812),\n",
              " ('but', 0.9989677667617798),\n",
              " ('with', 0.998941957950592),\n",
              " ('no', 0.998928427696228),\n",
              " ('on', 0.9989221096038818),\n",
              " ('the', 0.9989116787910461),\n",
              " ('it', 0.9989047646522522),\n",
              " ('a', 0.9988881945610046),\n",
              " ('me', 0.9988781809806824),\n",
              " ('my', 0.9988684058189392)]"
            ]
          },
          "metadata": {},
          "execution_count": 17
        }
      ]
    },
    {
      "cell_type": "code",
      "source": [
        "model.wv.similarity('katniss', 'girl')"
      ],
      "metadata": {
        "colab": {
          "base_uri": "https://localhost:8080/"
        },
        "id": "o7P5zpQQBAu5",
        "outputId": "9649c5c2-9c08-4f95-859c-e90d973a6e74"
      },
      "execution_count": null,
      "outputs": [
        {
          "output_type": "execute_result",
          "data": {
            "text/plain": [
              "0.9955246"
            ]
          },
          "metadata": {},
          "execution_count": 18
        }
      ]
    },
    {
      "cell_type": "code",
      "source": [
        "model.wv.similarity('peeta', 'home')"
      ],
      "metadata": {
        "colab": {
          "base_uri": "https://localhost:8080/"
        },
        "id": "Oqy9BYS_BEyZ",
        "outputId": "10629e91-aabc-41ef-df75-d02be46e9049"
      },
      "execution_count": null,
      "outputs": [
        {
          "output_type": "execute_result",
          "data": {
            "text/plain": [
              "0.998625"
            ]
          },
          "metadata": {},
          "execution_count": 13
        }
      ]
    },
    {
      "cell_type": "code",
      "source": [
        "def reduce_dimensions(model):\n",
        "    num_dimensions = 2  # final num dimensions (2D, 3D, etc)\n",
        "\n",
        "    # extract the words & their vectors, as numpy arrays\n",
        "    vectors = np.asarray(model.wv.vectors)\n",
        "    labels = np.asarray(model.wv.index_to_key)  # fixed-width numpy strings\n",
        "\n",
        "    # reduce using t-SNE\n",
        "    tsne = TSNE(n_components=num_dimensions, random_state=0)\n",
        "    vectors = tsne.fit_transform(vectors)\n",
        "\n",
        "    x_vals = [v[0] for v in vectors]\n",
        "    y_vals = [v[1] for v in vectors]\n",
        "    return x_vals, y_vals, labels\n",
        "\n",
        "\n",
        "x_vals, y_vals, labels = reduce_dimensions(model)"
      ],
      "metadata": {
        "id": "kXZkm9HJBRNW"
      },
      "execution_count": 24,
      "outputs": []
    },
    {
      "cell_type": "code",
      "source": [
        "def plot_with_plotly(x_vals, y_vals, labels, plot_in_notebook=True):\n",
        "    from plotly.offline import init_notebook_mode, iplot, plot\n",
        "    import plotly.graph_objs as go\n",
        "\n",
        "    trace = go.Scatter(x=x_vals, y=y_vals, mode='text', text=labels)\n",
        "    data = [trace]\n",
        "\n",
        "    if plot_in_notebook:\n",
        "        init_notebook_mode(connected=True)\n",
        "        iplot(data, filename='word-embedding-plot')\n",
        "    else:\n",
        "        plot(data, filename='word-embedding-plot.html')\n",
        "\n",
        "\n",
        "def plot_with_matplotlib(x_vals, y_vals, labels):\n",
        "    import matplotlib.pyplot as plt\n",
        "    import random\n",
        "\n",
        "    random.seed(0)\n",
        "\n",
        "    plt.figure(figsize=(12, 12))\n",
        "    plt.scatter(x_vals, y_vals)\n",
        "\n",
        "    #\n",
        "    # Label randomly subsampled 25 data points\n",
        "    #\n",
        "    indices = list(range(len(labels)))\n",
        "    selected_indices = random.sample(indices, 25)\n",
        "    for i in selected_indices:\n",
        "        plt.annotate(labels[i], (x_vals[i], y_vals[i]))\n",
        "\n",
        "try:\n",
        "    get_ipython()\n",
        "except Exception:\n",
        "    plot_function = plot_with_matplotlib\n",
        "else:\n",
        "    plot_function = plot_with_plotly\n",
        "\n",
        "plot_function(x_vals, y_vals, labels)"
      ],
      "metadata": {
        "colab": {
          "base_uri": "https://localhost:8080/",
          "height": 542
        },
        "id": "YHHLiYOsBbwC",
        "outputId": "0a9b91ce-37a4-48c7-f741-8e5f2d05485b"
      },
      "execution_count": 37,
      "outputs": [
        {
          "output_type": "display_data",
          "data": {
            "text/html": [
              "        <script type=\"text/javascript\">\n",
              "        window.PlotlyConfig = {MathJaxConfig: 'local'};\n",
              "        if (window.MathJax && window.MathJax.Hub && window.MathJax.Hub.Config) {window.MathJax.Hub.Config({SVG: {font: \"STIX-Web\"}});}\n",
              "        if (typeof require !== 'undefined') {\n",
              "        require.undef(\"plotly\");\n",
              "        requirejs.config({\n",
              "            paths: {\n",
              "                'plotly': ['https://cdn.plot.ly/plotly-2.24.1.min']\n",
              "            }\n",
              "        });\n",
              "        require(['plotly'], function(Plotly) {\n",
              "            window._Plotly = Plotly;\n",
              "        });\n",
              "        }\n",
              "        </script>\n",
              "        "
            ]
          },
          "metadata": {}
        },
        {
          "output_type": "display_data",
          "data": {
            "application/vnd.plotly.v1+json": {
              "data": [
                {
                  "mode": "text",
                  "text": [
                    ".",
                    ",",
                    "the",
                    "i",
                    "to",
                    "and",
                    "a",
                    "of",
                    "in",
                    "my",
                    "it",
                    "but",
                    "for",
                    "is",
                    "on",
                    "that",
                    "with",
                    "me",
                    "her",
                    "he",
                    "at",
                    "we",
                    "you",
                    "as",
                    "was",
                    "be",
                    "have",
                    "his",
                    "one",
                    "from",
                    "not",
                    "?",
                    "this",
                    "its",
                    "up",
                    "if",
                    "had",
                    "they",
                    "out",
                    "she",
                    "can",
                    "prim",
                    "so",
                    "us",
                    "him",
                    "are",
                    "says",
                    "no",
                    "back",
                    "into",
                    "when",
                    "all",
                    "district",
                    "then",
                    "were",
                    "our",
                    "who",
                    "will",
                    "or",
                    "!",
                    "mother",
                    "peeta",
                    "even",
                    "them",
                    "just",
                    "by",
                    "has",
                    "because",
                    "say",
                    "been",
                    "only",
                    "do",
                    "never",
                    "about",
                    "gale",
                    "what",
                    "an",
                    "there",
                    "haymitch",
                    "like",
                    "their",
                    "would",
                    "time",
                    "dont",
                    "bread",
                    "know",
                    "people",
                    "could",
                    "capitol",
                    "off",
                    "your",
                    "get",
                    "im",
                    "more",
                    "see",
                    "hes",
                    "effie",
                    "well",
                    "how",
                    "now",
                    "home",
                    "take",
                    "day",
                    "father",
                    "myself",
                    "two",
                    "trinket",
                    "woods",
                    "come",
                    "too",
                    "reaping",
                    "some",
                    "still",
                    "cant",
                    "way",
                    "think",
                    "theres",
                    "enough",
                    "year",
                    "few",
                    "12",
                    "must",
                    "once",
                    "other",
                    "little",
                    "shes",
                    "make",
                    "ive",
                    "around",
                    "good",
                    "seam",
                    "since",
                    "years",
                    "over",
                    "name",
                    "train",
                    "face",
                    "did",
                    "go",
                    "through",
                    "school",
                    "always",
                    "look",
                    "let",
                    "eyes",
                    "away",
                    "made",
                    "thing",
                    "might",
                    "where",
                    "ill",
                    "being",
                    "place",
                    "those",
                    "before",
                    "another",
                    "small",
                    "really",
                    "games",
                    "down",
                    "much",
                    "every",
                    "first",
                    "right",
                    "hair",
                    "help",
                    "going",
                    "anything",
                    "boy",
                    "didnt",
                    "hands",
                    "than",
                    "want",
                    "which",
                    "something",
                    "each",
                    "trying",
                    "stage",
                    "kids",
                    "old",
                    "keep",
                    "almost",
                    "last",
                    "mellark",
                    "someone",
                    "between",
                    "room",
                    "death",
                    "head",
                    "feel",
                    "districts",
                    "again",
                    "hand",
                    "thats",
                    "tributes",
                    "maybe",
                    "doesnt",
                    "food",
                    "put",
                    "remember",
                    "voice",
                    "dress",
                    "table",
                    "id",
                    "course",
                    "hunting",
                    "prims",
                    "katniss",
                    "any",
                    "moment",
                    "door",
                    "theyre",
                    "very",
                    "bed",
                    "live",
                    "while",
                    "times",
                    "until",
                    "family",
                    "hunger",
                    "turn",
                    "seen",
                    "girl",
                    "tesserae",
                    "fish",
                    "most",
                    "hold",
                    "kill",
                    "tribute",
                    "hard",
                    "coal",
                    "nothing",
                    "bakery",
                    "try",
                    "crowd",
                    "called",
                    "behind",
                    "eat",
                    "why",
                    "leave",
                    "here",
                    "watch",
                    "best",
                    "arms",
                    "hob",
                    "ago",
                    "big",
                    "slip",
                    "today",
                    "three",
                    "matter",
                    "real",
                    "panem",
                    "morning",
                    "stand",
                    "knife",
                    "inside",
                    "against",
                    "find",
                    "may",
                    "madge",
                    "after",
                    "game",
                    "better",
                    "same",
                    "wont",
                    "does",
                    "trade",
                    "lot",
                    "am",
                    "seem",
                    "names",
                    "both",
                    "supper",
                    "ever",
                    "mayor",
                    "loaves",
                    "dark",
                    "greens",
                    "grain",
                    "peacekeepers",
                    "market",
                    "carefully",
                    "fathers",
                    "afford",
                    "black",
                    "reach",
                    "kind",
                    "toward",
                    "money",
                    "pin",
                    "odds",
                    "forward",
                    "hear",
                    "fingers",
                    "twelve",
                    "thought",
                    "days",
                    "night",
                    "cry",
                    "went",
                    "clear",
                    "wild",
                    "couldnt",
                    "glass",
                    "hot",
                    "bakers",
                    "fence",
                    "bird",
                    "part",
                    "care",
                    "cheese",
                    "hours",
                    "next",
                    "youre",
                    "having",
                    "strawberries",
                    "got",
                    "arena",
                    "alive",
                    "though",
                    "least",
                    "become",
                    "feed",
                    "mothers",
                    "sits",
                    "ball",
                    "sister",
                    "plants",
                    "feet",
                    "long",
                    "probably",
                    "under",
                    "goat",
                    "warm",
                    "words",
                    "bit",
                    "things",
                    "quickly",
                    "clothes",
                    "makes",
                    "bow",
                    "own",
                    "done",
                    "holds",
                    "girls",
                    "pull",
                    "knew",
                    "turned",
                    "waiting",
                    "life",
                    "love",
                    "blouse",
                    "green",
                    "fine",
                    "gave",
                    "sometimes",
                    "open",
                    "although",
                    "stay",
                    "instead",
                    "volunteer",
                    "idea",
                    "meat",
                    "far",
                    "nose",
                    "took",
                    "already",
                    "running",
                    "else",
                    "deep",
                    "hunt",
                    "finally",
                    "stuff",
                    "found",
                    "asks",
                    "set",
                    "read",
                    "hit",
                    "such",
                    "pulls",
                    "gives",
                    "falls",
                    "suddenly",
                    "son",
                    "rich",
                    "besides",
                    "youll",
                    "whole",
                    "station",
                    "attention",
                    "left",
                    "mines",
                    "meadow",
                    "eating",
                    "work",
                    "building",
                    "red",
                    "justice",
                    "burned",
                    "begin",
                    "man",
                    "wall",
                    "dandelion",
                    "pretty",
                    "birds",
                    "told",
                    "volunteers",
                    "fighting",
                    "goes",
                    "knows",
                    "yes",
                    "tonight",
                    "wood",
                    "lets",
                    "tears",
                    "buy",
                    "sleep",
                    "together",
                    "bad",
                    "deal",
                    "exchange",
                    "began",
                    "months",
                    "except",
                    "spent",
                    "oil",
                    "takes",
                    "rain",
                    "sit",
                    "cookies",
                    "person",
                    "amount",
                    "couple",
                    "point",
                    "die",
                    "light",
                    "everyone",
                    "ones",
                    "white",
                    "word",
                    "said",
                    "boys",
                    "special",
                    "also",
                    "squirrel",
                    "soft",
                    "podium",
                    "usually",
                    "many",
                    "blue",
                    "faces",
                    "streets",
                    "isnt",
                    "several",
                    "hasnt",
                    "taking",
                    "favor",
                    "front",
                    "across",
                    "sweet",
                    "air",
                    "bushes",
                    "skin",
                    "means",
                    "meal",
                    "stew",
                    "protect",
                    "shirt",
                    "water",
                    "rest",
                    "strong",
                    "gold",
                    "arm",
                    "tree",
                    "herself",
                    "thinking",
                    "reapings",
                    "bright",
                    "give",
                    "looking",
                    "chair",
                    "woman",
                    "paper",
                    "tried",
                    "wasnt",
                    "shot",
                    "without",
                    "along",
                    "ask",
                    "everything",
                    "begins",
                    "steps",
                    "wear",
                    "run",
                    "window"
                  ],
                  "x": [
                    49.732688903808594,
                    50.13024139404297,
                    50.11985397338867,
                    49.069339752197266,
                    50.19886779785156,
                    50.08384704589844,
                    50.160953521728516,
                    48.21485137939453,
                    48.05863952636719,
                    49.25614929199219,
                    47.29228210449219,
                    48.6317138671875,
                    48.14368438720703,
                    47.62968063354492,
                    46.176429748535156,
                    47.200469970703125,
                    46.40932083129883,
                    46.45435333251953,
                    44.37823486328125,
                    45.59800338745117,
                    47.36494445800781,
                    46.95248794555664,
                    43.77627944946289,
                    48.3662109375,
                    36.52154541015625,
                    46.14120101928711,
                    45.31215286254883,
                    46.03112030029297,
                    46.734893798828125,
                    47.04632568359375,
                    39.58047103881836,
                    35.75913619995117,
                    41.60142517089844,
                    36.68474578857422,
                    42.441200256347656,
                    42.963531494140625,
                    43.628822326660156,
                    41.71780014038086,
                    45.009281158447266,
                    40.97371292114258,
                    46.135643005371094,
                    36.9422721862793,
                    37.41234588623047,
                    43.47686767578125,
                    40.29412078857422,
                    42.51127243041992,
                    34.781028747558594,
                    36.77513885498047,
                    40.93021774291992,
                    42.67072296142578,
                    41.60968780517578,
                    39.5656623840332,
                    36.93553161621094,
                    37.31757736206055,
                    42.294734954833984,
                    41.77190399169922,
                    48.32374572753906,
                    40.6342887878418,
                    44.179466247558594,
                    35.260013580322266,
                    33.95029067993164,
                    40.4372673034668,
                    38.28540802001953,
                    37.064483642578125,
                    37.75413131713867,
                    39.7220573425293,
                    45.012290954589844,
                    43.3726806640625,
                    18.2847900390625,
                    42.33189392089844,
                    36.54521942138672,
                    34.28253173828125,
                    42.014060974121094,
                    34.7854118347168,
                    41.56279754638672,
                    38.60914993286133,
                    39.86928176879883,
                    37.77463150024414,
                    28.85125160217285,
                    36.35944747924805,
                    42.61619186401367,
                    35.46953201293945,
                    35.8131103515625,
                    30.2134952545166,
                    37.862815856933594,
                    30.53706932067871,
                    26.03167724609375,
                    32.179073333740234,
                    22.946489334106445,
                    36.01933288574219,
                    34.58485794067383,
                    34.0714225769043,
                    31.217456817626953,
                    34.080833435058594,
                    29.523677825927734,
                    29.892545700073242,
                    32.975894927978516,
                    23.76298713684082,
                    33.75168991088867,
                    30.606393814086914,
                    23.337501525878906,
                    29.124629974365234,
                    24.830989837646484,
                    17.385513305664062,
                    18.66761016845703,
                    28.122684478759766,
                    30.122236251831055,
                    16.464067459106445,
                    22.058130264282227,
                    30.81005096435547,
                    28.74026870727539,
                    30.2657413482666,
                    28.725107192993164,
                    19.13360595703125,
                    24.404542922973633,
                    7.243191719055176,
                    29.406251907348633,
                    29.132244110107422,
                    21.232698440551758,
                    19.740468978881836,
                    22.372329711914062,
                    21.33749008178711,
                    21.24205207824707,
                    29.1732177734375,
                    28.091747283935547,
                    22.05958366394043,
                    29.275653839111328,
                    23.24945068359375,
                    18.400632858276367,
                    24.997968673706055,
                    17.107460021972656,
                    21.515430450439453,
                    29.720151901245117,
                    27.489416122436523,
                    26.72181510925293,
                    23.98766326904297,
                    1.258399486541748,
                    9.597597122192383,
                    22.64284324645996,
                    17.254413604736328,
                    15.212141036987305,
                    25.803892135620117,
                    17.771278381347656,
                    9.268303871154785,
                    24.67940902709961,
                    16.407461166381836,
                    27.921157836914062,
                    23.78788948059082,
                    8.813584327697754,
                    16.778947830200195,
                    17.856643676757812,
                    21.0448055267334,
                    4.634234428405762,
                    20.825450897216797,
                    24.850465774536133,
                    22.825498580932617,
                    16.54486083984375,
                    23.825321197509766,
                    14.680968284606934,
                    19.107467651367188,
                    15.561616897583008,
                    17.761810302734375,
                    13.035078048706055,
                    20.587753295898438,
                    20.84029769897461,
                    9.389298439025879,
                    13.562697410583496,
                    12.101663589477539,
                    26.771244049072266,
                    12.225898742675781,
                    1.8690471649169922,
                    26.76956558227539,
                    6.236425399780273,
                    18.804244995117188,
                    8.518362045288086,
                    20.589235305786133,
                    25.826566696166992,
                    12.44865894317627,
                    19.985916137695312,
                    25.292217254638672,
                    19.43822479248047,
                    9.15392017364502,
                    10.242696762084961,
                    12.83702564239502,
                    16.293575286865234,
                    15.582533836364746,
                    -13.395745277404785,
                    -5.219269752502441,
                    -15.256260871887207,
                    -8.181346893310547,
                    12.535136222839355,
                    -5.968108177185059,
                    10.621994972229004,
                    -7.259716033935547,
                    9.893332481384277,
                    -2.251875162124634,
                    3.143120765686035,
                    4.318187236785889,
                    9.925993919372559,
                    5.41429328918457,
                    -9.971559524536133,
                    7.197148323059082,
                    7.706336975097656,
                    17.339271545410156,
                    -45.21961212158203,
                    3.1317131519317627,
                    4.021237850189209,
                    -5.124610900878906,
                    -6.533933162689209,
                    -13.33080768585205,
                    -28.51187515258789,
                    -4.4410200119018555,
                    -0.9877511262893677,
                    -7.327692985534668,
                    2.1161179542541504,
                    10.808913230895996,
                    3.0013339519500732,
                    11.007513046264648,
                    12.247790336608887,
                    5.593801975250244,
                    -1.9372740983963013,
                    0.12906725704669952,
                    2.2239365577697754,
                    3.6101231575012207,
                    -0.5593255162239075,
                    -11.354987144470215,
                    -0.5901393294334412,
                    5.396373748779297,
                    15.870004653930664,
                    7.725372314453125,
                    6.051215171813965,
                    12.804192543029785,
                    -12.741488456726074,
                    -12.072013854980469,
                    5.38334321975708,
                    0.38674768805503845,
                    -6.419658660888672,
                    2.545323610305786,
                    -8.239702224731445,
                    -4.052596569061279,
                    10.096258163452148,
                    13.98872184753418,
                    5.949350833892822,
                    -8.239344596862793,
                    0.35525795817375183,
                    4.784680366516113,
                    12.071084976196289,
                    3.080925703048706,
                    -0.23823955655097961,
                    8.930253028869629,
                    4.58982515335083,
                    -22.01320457458496,
                    -19.191604614257812,
                    2.3242156505584717,
                    -24.842857360839844,
                    -10.514763832092285,
                    -5.444954872131348,
                    3.691359758377075,
                    -11.67608642578125,
                    -0.7053306102752686,
                    -6.152801990509033,
                    -7.4850239753723145,
                    -2.6022768020629883,
                    7.862339019775391,
                    -7.933348655700684,
                    -13.881549835205078,
                    5.623782634735107,
                    9.311018943786621,
                    -25.239215850830078,
                    -26.082319259643555,
                    -1.3176194429397583,
                    6.054800510406494,
                    -12.745075225830078,
                    -44.71828079223633,
                    8.793591499328613,
                    -34.4117431640625,
                    -0.9510899186134338,
                    -8.654760360717773,
                    10.359657287597656,
                    2.8410744667053223,
                    -9.0228910446167,
                    -5.657334327697754,
                    -20.031784057617188,
                    -6.740407466888428,
                    -33.6458625793457,
                    -8.5962553024292,
                    -37.62371063232422,
                    -8.16359806060791,
                    -19.541109085083008,
                    -9.605692863464355,
                    -15.689218521118164,
                    -0.9029757976531982,
                    -5.072507381439209,
                    -1.1189723014831543,
                    -3.552182912826538,
                    -16.728374481201172,
                    -11.497247695922852,
                    -0.17315594851970673,
                    -3.3115663528442383,
                    -21.317773818969727,
                    -27.658445358276367,
                    -22.0260066986084,
                    -24.273157119750977,
                    -43.3087043762207,
                    -15.153529167175293,
                    -31.615257263183594,
                    -45.18038558959961,
                    -17.220746994018555,
                    -38.570274353027344,
                    -13.404592514038086,
                    -23.951904296875,
                    -9.515764236450195,
                    -13.618908882141113,
                    -7.223310947418213,
                    -33.656917572021484,
                    0.16652852296829224,
                    -30.7758731842041,
                    -28.836034774780273,
                    -10.955212593078613,
                    -25.770723342895508,
                    -22.515567779541016,
                    -46.582305908203125,
                    -18.11522102355957,
                    -37.52455520629883,
                    -12.052383422851562,
                    -33.89898681640625,
                    10.614235877990723,
                    -31.607994079589844,
                    -38.01313018798828,
                    -46.61968231201172,
                    -0.19385071098804474,
                    -11.63050651550293,
                    -15.234936714172363,
                    -30.10416030883789,
                    -19.15911102294922,
                    -31.069616317749023,
                    -12.872560501098633,
                    -25.641014099121094,
                    -14.030896186828613,
                    -18.460617065429688,
                    -28.45340347290039,
                    -45.67552947998047,
                    -45.827964782714844,
                    -20.145612716674805,
                    -13.801023483276367,
                    -17.302316665649414,
                    -25.4526424407959,
                    -29.777240753173828,
                    -25.26714515686035,
                    -39.14727783203125,
                    -7.803380012512207,
                    -33.4884147644043,
                    -47.35757064819336,
                    -21.439611434936523,
                    -22.36839485168457,
                    -14.840882301330566,
                    -48.35026550292969,
                    -35.19351577758789,
                    -24.995290756225586,
                    -26.347288131713867,
                    -44.03438949584961,
                    -14.399469375610352,
                    -46.53205490112305,
                    -21.36144256591797,
                    -8.771432876586914,
                    -46.03253936767578,
                    -19.005489349365234,
                    -22.494592666625977,
                    -24.031469345092773,
                    -18.39917755126953,
                    -24.452125549316406,
                    -40.30974578857422,
                    -18.68280029296875,
                    -35.91072463989258,
                    -23.820682525634766,
                    -37.21763610839844,
                    -23.596757888793945,
                    0.11521996557712555,
                    -14.530728340148926,
                    -38.13593673706055,
                    -15.3193359375,
                    -36.98575210571289,
                    -36.90302276611328,
                    -26.339576721191406,
                    -24.57396697998047,
                    -43.96926498413086,
                    -31.17537498474121,
                    -34.14517593383789,
                    -47.15126419067383,
                    -41.613319396972656,
                    -23.258745193481445,
                    -22.0643253326416,
                    -38.65620422363281,
                    -32.451107025146484,
                    -27.31736183166504,
                    -31.731170654296875,
                    -12.815732955932617,
                    -47.79581069946289,
                    -2.5618183612823486,
                    -5.609971046447754,
                    -18.088300704956055,
                    -11.984025001525879,
                    -8.88016414642334,
                    -20.817333221435547,
                    -22.478172302246094,
                    -42.50667190551758,
                    -36.54231262207031,
                    -16.54007911682129,
                    -20.408220291137695,
                    -33.382957458496094,
                    -30.58368492126465,
                    -45.426307678222656,
                    -45.485267639160156,
                    -43.87535095214844,
                    -36.771209716796875,
                    -46.34162139892578,
                    -36.212242126464844,
                    -38.2782096862793,
                    -42.9601936340332,
                    -35.11756896972656,
                    -38.115509033203125,
                    -44.411476135253906,
                    -44.68033981323242,
                    -45.835140228271484,
                    -46.4526252746582,
                    -32.106563568115234,
                    -14.975608825683594,
                    -29.608722686767578,
                    -23.450401306152344,
                    -21.406591415405273,
                    -44.413475036621094,
                    -32.370548248291016,
                    -35.85175323486328,
                    -42.592708587646484,
                    -15.824712753295898,
                    -6.200936317443848,
                    -28.43588638305664,
                    -26.08741569519043,
                    -40.47081756591797,
                    -30.42693519592285,
                    -19.169597625732422,
                    -43.280033111572266,
                    -26.67685890197754,
                    -43.193572998046875,
                    -34.04822540283203,
                    -47.52900314331055,
                    -42.83346176147461,
                    -25.14362144470215,
                    -29.8298282623291,
                    -30.475669860839844,
                    -13.324383735656738,
                    -46.10904312133789,
                    -40.85713577270508,
                    -37.07911682128906,
                    -21.261314392089844,
                    -27.304931640625,
                    -31.73858070373535,
                    -35.97921371459961,
                    -27.38899040222168,
                    -29.57155990600586,
                    -32.79811096191406,
                    -48.36759948730469,
                    -43.07906723022461,
                    -43.722862243652344,
                    -17.29074478149414,
                    -41.025230407714844,
                    -23.27408790588379,
                    -41.9849853515625,
                    -31.043832778930664,
                    -37.927001953125,
                    -27.383352279663086,
                    -35.44981002807617,
                    -17.539691925048828,
                    -41.524497985839844,
                    -45.254817962646484,
                    -47.841880798339844,
                    -6.14794397354126,
                    -27.399154663085938,
                    -18.219411849975586,
                    -38.46098327636719,
                    -41.877159118652344,
                    -26.591352462768555,
                    -35.304561614990234,
                    -19.096050262451172,
                    -37.27368927001953,
                    -36.45695114135742,
                    -39.38079071044922,
                    -1.3072826862335205,
                    -21.32396125793457,
                    -47.52034378051758,
                    -29.399019241333008,
                    -18.006656646728516,
                    -38.729862213134766,
                    -25.345233917236328,
                    -36.93199157714844,
                    -8.699024200439453
                  ],
                  "y": [
                    -3.559558629989624,
                    -3.6235837936401367,
                    -3.6236860752105713,
                    -3.482002019882202,
                    -3.633089780807495,
                    -3.6186671257019043,
                    -3.627204179763794,
                    -3.061316728591919,
                    -3.5890791416168213,
                    -3.500668525695801,
                    -2.9642045497894287,
                    -3.352356195449829,
                    -3.5524110794067383,
                    -3.0109355449676514,
                    -2.8068394660949707,
                    -3.522376537322998,
                    -3.348966360092163,
                    -2.7686824798583984,
                    -2.750037670135498,
                    -2.9303581714630127,
                    -3.4747984409332275,
                    -2.976490020751953,
                    -2.5315511226654053,
                    -3.09477162361145,
                    -0.7569431066513062,
                    -2.7757859230041504,
                    -2.919454574584961,
                    -3.2653093338012695,
                    -3.421705722808838,
                    -2.9061434268951416,
                    -1.9614770412445068,
                    -1.0504413843154907,
                    -1.9976768493652344,
                    -0.8988207578659058,
                    -2.2565248012542725,
                    -2.468090534210205,
                    -2.8125321865081787,
                    -2.3831491470336914,
                    -2.905039072036743,
                    -2.1178324222564697,
                    -3.3077118396759033,
                    -1.0535082817077637,
                    -1.6282645463943481,
                    -2.3612592220306396,
                    -1.9947834014892578,
                    -2.102825880050659,
                    -0.8356121182441711,
                    -1.6062496900558472,
                    -2.343418598175049,
                    -2.7644364833831787,
                    -2.7077269554138184,
                    -1.818031907081604,
                    -1.7599279880523682,
                    -1.1032754182815552,
                    -2.759441614151001,
                    -2.720074415206909,
                    -3.5765745639801025,
                    -1.8749573230743408,
                    -2.7706918716430664,
                    -1.0160869359970093,
                    -0.6527103185653687,
                    -2.3273611068725586,
                    -1.632240891456604,
                    -0.9996544122695923,
                    -1.6716210842132568,
                    -1.946702241897583,
                    -2.830383777618408,
                    -2.848978281021118,
                    3.1714088916778564,
                    -2.8391575813293457,
                    -1.4894570112228394,
                    -0.35731780529022217,
                    -2.0111308097839355,
                    -0.45689642429351807,
                    -1.9852285385131836,
                    -1.6390010118484497,
                    -1.8033181428909302,
                    -1.3285753726959229,
                    0.6408087611198425,
                    -1.352459192276001,
                    -2.110771656036377,
                    -0.6443448066711426,
                    -1.2376315593719482,
                    0.9626229405403137,
                    -1.200330138206482,
                    0.40787473320961,
                    1.946710228919983,
                    0.10202724486589432,
                    2.765070915222168,
                    -0.7350574731826782,
                    -0.7204523682594299,
                    -0.5495203733444214,
                    0.3709396719932556,
                    -0.32611900568008423,
                    0.6093757152557373,
                    0.47439685463905334,
                    -0.1334754377603531,
                    2.2792105674743652,
                    -0.34179452061653137,
                    0.6139817833900452,
                    2.9306013584136963,
                    0.7737399935722351,
                    1.940972924232483,
                    3.0034618377685547,
                    3.5551116466522217,
                    1.251024603843689,
                    1.1252697706222534,
                    3.504270553588867,
                    3.1208996772766113,
                    0.727717936038971,
                    1.3689831495285034,
                    0.39067015051841736,
                    0.9879683256149292,
                    3.481234550476074,
                    2.1348142623901367,
                    2.8831069469451904,
                    1.1995646953582764,
                    1.331167459487915,
                    3.2712600231170654,
                    3.162411689758301,
                    2.672804832458496,
                    2.5918376445770264,
                    3.2465686798095703,
                    0.6094428300857544,
                    1.2605867385864258,
                    2.716320037841797,
                    1.4596259593963623,
                    2.2346415519714355,
                    3.720950126647949,
                    2.490293025970459,
                    3.3337724208831787,
                    3.130629062652588,
                    1.1346614360809326,
                    1.451909065246582,
                    1.7651368379592896,
                    2.6806461811065674,
                    1.1160672903060913,
                    2.5574512481689453,
                    3.0382843017578125,
                    3.576241970062256,
                    3.5938374996185303,
                    2.0859594345092773,
                    3.5562245845794678,
                    2.683770179748535,
                    2.5752432346343994,
                    3.9412972927093506,
                    1.5470846891403198,
                    2.3060855865478516,
                    3.387640953063965,
                    3.9441657066345215,
                    3.173898935317993,
                    2.9127142429351807,
                    2.5120861530303955,
                    2.8570289611816406,
                    2.247485637664795,
                    2.551445960998535,
                    3.139944314956665,
                    2.8102550506591797,
                    3.6110341548919678,
                    3.2095179557800293,
                    3.4580771923065186,
                    3.996384382247925,
                    3.5147430896759033,
                    2.883244752883911,
                    3.397364377975464,
                    3.296921730041504,
                    3.67276930809021,
                    3.2837231159210205,
                    1.7261602878570557,
                    3.2736153602600098,
                    1.7485932111740112,
                    1.6842470169067383,
                    3.0434982776641846,
                    3.186854362487793,
                    2.8170266151428223,
                    3.585498809814453,
                    1.9214802980422974,
                    3.8029329776763916,
                    3.3709118366241455,
                    2.0121371746063232,
                    3.6912381649017334,
                    2.849405527114868,
                    3.8254897594451904,
                    3.064850330352783,
                    3.500154972076416,
                    3.594275712966919,
                    -0.3705078065395355,
                    0.25308865308761597,
                    -2.400205135345459,
                    -1.1949394941329956,
                    3.2051708698272705,
                    -0.14592179656028748,
                    3.463710069656372,
                    0.18330253660678864,
                    3.5741446018218994,
                    -0.30992552638053894,
                    2.0676209926605225,
                    1.718774437904358,
                    3.0199973583221436,
                    2.2660913467407227,
                    -1.3271455764770508,
                    2.2749247550964355,
                    2.678560972213745,
                    3.892418622970581,
                    -0.1367674469947815,
                    1.8615361452102661,
                    2.238419532775879,
                    -1.0733882188796997,
                    -1.3069368600845337,
                    -2.0089619159698486,
                    -1.3752385377883911,
                    0.06087758392095566,
                    0.9943114519119263,
                    0.03792485222220421,
                    1.6795235872268677,
                    3.5019006729125977,
                    1.9033499956130981,
                    3.2601265907287598,
                    3.921252965927124,
                    2.783834218978882,
                    0.3689834177494049,
                    1.4077539443969727,
                    1.230618953704834,
                    1.885635256767273,
                    -0.2870822250843048,
                    -1.140796422958374,
                    0.1018606498837471,
                    2.6761341094970703,
                    3.853273868560791,
                    3.189641237258911,
                    2.132997989654541,
                    3.553767204284668,
                    -0.6392865180969238,
                    -2.062673807144165,
                    1.9264878034591675,
                    1.2980011701583862,
                    -0.20378310978412628,
                    1.56607186794281,
                    -0.36689257621765137,
                    -0.2688266634941101,
                    3.096849203109741,
                    3.5183804035186768,
                    2.0738303661346436,
                    0.103990837931633,
                    0.5337441563606262,
                    2.209044933319092,
                    3.815417766571045,
                    1.3753676414489746,
                    0.20362989604473114,
                    3.1194329261779785,
                    1.7349238395690918,
                    -0.3763680160045624,
                    -2.886563301086426,
                    0.7551395297050476,
                    -0.5366309881210327,
                    -1.7311582565307617,
                    0.017379552125930786,
                    1.3201018571853638,
                    -0.2847251296043396,
                    0.29645803570747375,
                    -0.0930505245923996,
                    -1.5572789907455444,
                    0.4373026192188263,
                    2.721668243408203,
                    -1.7445353269577026,
                    -1.1112943887710571,
                    1.8263236284255981,
                    3.8717973232269287,
                    -2.185154438018799,
                    -1.4062789678573608,
                    0.9681444764137268,
                    2.569669008255005,
                    -2.025067090988159,
                    -0.4356667399406433,
                    3.6479666233062744,
                    -0.11100325733423233,
                    0.8383195996284485,
                    -1.0834400653839111,
                    2.7167723178863525,
                    2.4927358627319336,
                    -1.5559890270233154,
                    -1.5929605960845947,
                    -1.2230395078659058,
                    -0.7192594408988953,
                    -0.4578877389431,
                    -0.37177780270576477,
                    -0.03230232000350952,
                    -0.8801153302192688,
                    -0.8165264129638672,
                    -1.3170686960220337,
                    -1.7247087955474854,
                    0.4510708153247833,
                    -0.3912065923213959,
                    1.2246041297912598,
                    -0.02718079648911953,
                    -1.3172776699066162,
                    -1.620780348777771,
                    1.0733031034469604,
                    -0.0753074362874031,
                    -0.13939891755580902,
                    0.3331899046897888,
                    -0.6407082080841064,
                    -2.544203758239746,
                    0.8659794926643372,
                    -0.8653483390808105,
                    -0.6526490449905396,
                    0.869265079498291,
                    -2.921067476272583,
                    -0.21071425080299377,
                    -2.621367931365967,
                    -0.6983580589294434,
                    -0.17059171199798584,
                    -2.3179914951324463,
                    -0.7755769491195679,
                    0.6011688113212585,
                    0.20442426204681396,
                    0.015700971707701683,
                    -0.6724501848220825,
                    -1.1125127077102661,
                    0.18099667131900787,
                    -1.8803226947784424,
                    -0.20239733159542084,
                    -1.0851812362670898,
                    -1.1778312921524048,
                    -0.9591590166091919,
                    -0.12855692207813263,
                    2.925908088684082,
                    0.10310491919517517,
                    -1.0372999906539917,
                    -0.3877241313457489,
                    0.48833853006362915,
                    -1.4513342380523682,
                    -1.0930113792419434,
                    -0.04776836186647415,
                    -1.316849946975708,
                    -1.9118443727493286,
                    -2.4427218437194824,
                    -2.3509795665740967,
                    -0.9069310426712036,
                    -2.4584813117980957,
                    0.3192653954029083,
                    -0.13569295406341553,
                    0.794642984867096,
                    -1.494872808456421,
                    -2.6099495887756348,
                    -2.561771869659424,
                    0.6961058974266052,
                    -0.7200022339820862,
                    -1.6072721481323242,
                    -0.6244499683380127,
                    -1.1996337175369263,
                    -1.3871479034423828,
                    0.39444610476493835,
                    -1.085914969444275,
                    0.2114378958940506,
                    -2.8014395236968994,
                    -0.2700805068016052,
                    -1.1536048650741577,
                    -0.7099613547325134,
                    0.09990258514881134,
                    0.898393988609314,
                    -1.62929105758667,
                    0.5961207151412964,
                    -2.4425275325775146,
                    -2.2562379837036133,
                    0.20503775775432587,
                    -2.9786922931671143,
                    -1.7195507287979126,
                    -0.7581672072410583,
                    -2.530102252960205,
                    -1.6862399578094482,
                    -0.3076755106449127,
                    -0.9621736407279968,
                    -0.977230429649353,
                    -1.28990638256073,
                    0.4463185966014862,
                    -2.181406021118164,
                    1.1018383502960205,
                    -1.9379709959030151,
                    -1.157608151435852,
                    -1.6873334646224976,
                    -0.026058634743094444,
                    0.3090343773365021,
                    -0.25718605518341064,
                    0.05608439818024635,
                    0.09100056439638138,
                    -1.3531399965286255,
                    -0.9925103187561035,
                    0.10449349880218506,
                    0.5431576371192932,
                    -0.6181337833404541,
                    -2.7248148918151855,
                    0.2447558045387268,
                    -0.287189781665802,
                    -1.6184966564178467,
                    0.1351577639579773,
                    -1.5314699411392212,
                    -0.3242826461791992,
                    0.20901794731616974,
                    -0.7869446873664856,
                    -2.594557523727417,
                    -2.027843713760376,
                    -1.6049890518188477,
                    -1.3185093402862549,
                    -0.7093644738197327,
                    -0.5974090099334717,
                    0.5220197439193726,
                    -1.2942835092544556,
                    -0.4919203221797943,
                    0.19317340850830078,
                    -1.857367992401123,
                    -0.8151114583015442,
                    -0.3858610987663269,
                    -0.5323731303215027,
                    -1.0232141017913818,
                    0.47730639576911926,
                    -0.9471315741539001,
                    0.5832599401473999,
                    0.627192497253418,
                    0.3884262144565582,
                    0.3097892701625824,
                    0.5339981317520142,
                    0.0061921714805066586,
                    0.4208465814590454,
                    -0.6156290173530579,
                    -0.3950674533843994,
                    -3.018397331237793,
                    -2.090515375137329,
                    0.03447864204645157,
                    -0.5461166501045227,
                    -0.702474057674408,
                    -1.177359700202942,
                    -0.44973450899124146,
                    -0.044779203832149506,
                    -2.618450880050659,
                    -1.108221411705017,
                    -1.1602976322174072,
                    -0.34177228808403015,
                    -0.36008840799331665,
                    -1.1823381185531616,
                    -1.8593456745147705,
                    0.6534221172332764,
                    -1.1417796611785889,
                    -0.9112758040428162,
                    -1.1124955415725708,
                    0.3124733567237854,
                    0.4649164080619812,
                    -0.9454676508903503,
                    -1.614367961883545,
                    -1.032987117767334,
                    -1.1197046041488647,
                    -0.42414212226867676,
                    0.3004462718963623,
                    1.2685953378677368,
                    -1.0226643085479736,
                    -0.22353824973106384,
                    -1.0182136297225952,
                    0.45971056818962097,
                    -1.0450571775436401,
                    -1.6898365020751953,
                    -0.9375004172325134,
                    -0.09980299323797226,
                    -0.3761689066886902,
                    -0.08912302553653717,
                    -1.7976487874984741,
                    0.9446993470191956,
                    -1.8676552772521973,
                    -0.16898564994335175,
                    -1.2781610488891602,
                    0.44144129753112793,
                    -1.230891227722168,
                    1.203215479850769,
                    -2.0005404949188232,
                    -0.30431845784187317,
                    -0.11635137349367142,
                    -0.39805498719215393,
                    -1.3141485452651978,
                    -0.3228834569454193,
                    -1.2914782762527466,
                    -0.7462210655212402,
                    -0.1876208633184433,
                    -1.6509884595870972,
                    -0.3010895848274231,
                    -1.692101001739502,
                    -0.6651884317398071,
                    -0.020771706476807594,
                    0.03526715189218521,
                    0.07157889753580093,
                    -2.5504889488220215,
                    -0.5807181000709534,
                    -0.4343508780002594,
                    -2.0748913288116455,
                    0.20847094058990479,
                    -0.7455263137817383,
                    1.2617735862731934,
                    -1.4554619789123535
                  ],
                  "type": "scatter"
                }
              ],
              "layout": {
                "template": {
                  "data": {
                    "barpolar": [
                      {
                        "marker": {
                          "line": {
                            "color": "#E5ECF6",
                            "width": 0.5
                          },
                          "pattern": {
                            "fillmode": "overlay",
                            "size": 10,
                            "solidity": 0.2
                          }
                        },
                        "type": "barpolar"
                      }
                    ],
                    "bar": [
                      {
                        "error_x": {
                          "color": "#2a3f5f"
                        },
                        "error_y": {
                          "color": "#2a3f5f"
                        },
                        "marker": {
                          "line": {
                            "color": "#E5ECF6",
                            "width": 0.5
                          },
                          "pattern": {
                            "fillmode": "overlay",
                            "size": 10,
                            "solidity": 0.2
                          }
                        },
                        "type": "bar"
                      }
                    ],
                    "carpet": [
                      {
                        "aaxis": {
                          "endlinecolor": "#2a3f5f",
                          "gridcolor": "white",
                          "linecolor": "white",
                          "minorgridcolor": "white",
                          "startlinecolor": "#2a3f5f"
                        },
                        "baxis": {
                          "endlinecolor": "#2a3f5f",
                          "gridcolor": "white",
                          "linecolor": "white",
                          "minorgridcolor": "white",
                          "startlinecolor": "#2a3f5f"
                        },
                        "type": "carpet"
                      }
                    ],
                    "choropleth": [
                      {
                        "colorbar": {
                          "outlinewidth": 0,
                          "ticks": ""
                        },
                        "type": "choropleth"
                      }
                    ],
                    "contourcarpet": [
                      {
                        "colorbar": {
                          "outlinewidth": 0,
                          "ticks": ""
                        },
                        "type": "contourcarpet"
                      }
                    ],
                    "contour": [
                      {
                        "colorbar": {
                          "outlinewidth": 0,
                          "ticks": ""
                        },
                        "colorscale": [
                          [
                            0,
                            "#0d0887"
                          ],
                          [
                            0.1111111111111111,
                            "#46039f"
                          ],
                          [
                            0.2222222222222222,
                            "#7201a8"
                          ],
                          [
                            0.3333333333333333,
                            "#9c179e"
                          ],
                          [
                            0.4444444444444444,
                            "#bd3786"
                          ],
                          [
                            0.5555555555555556,
                            "#d8576b"
                          ],
                          [
                            0.6666666666666666,
                            "#ed7953"
                          ],
                          [
                            0.7777777777777778,
                            "#fb9f3a"
                          ],
                          [
                            0.8888888888888888,
                            "#fdca26"
                          ],
                          [
                            1,
                            "#f0f921"
                          ]
                        ],
                        "type": "contour"
                      }
                    ],
                    "heatmapgl": [
                      {
                        "colorbar": {
                          "outlinewidth": 0,
                          "ticks": ""
                        },
                        "colorscale": [
                          [
                            0,
                            "#0d0887"
                          ],
                          [
                            0.1111111111111111,
                            "#46039f"
                          ],
                          [
                            0.2222222222222222,
                            "#7201a8"
                          ],
                          [
                            0.3333333333333333,
                            "#9c179e"
                          ],
                          [
                            0.4444444444444444,
                            "#bd3786"
                          ],
                          [
                            0.5555555555555556,
                            "#d8576b"
                          ],
                          [
                            0.6666666666666666,
                            "#ed7953"
                          ],
                          [
                            0.7777777777777778,
                            "#fb9f3a"
                          ],
                          [
                            0.8888888888888888,
                            "#fdca26"
                          ],
                          [
                            1,
                            "#f0f921"
                          ]
                        ],
                        "type": "heatmapgl"
                      }
                    ],
                    "heatmap": [
                      {
                        "colorbar": {
                          "outlinewidth": 0,
                          "ticks": ""
                        },
                        "colorscale": [
                          [
                            0,
                            "#0d0887"
                          ],
                          [
                            0.1111111111111111,
                            "#46039f"
                          ],
                          [
                            0.2222222222222222,
                            "#7201a8"
                          ],
                          [
                            0.3333333333333333,
                            "#9c179e"
                          ],
                          [
                            0.4444444444444444,
                            "#bd3786"
                          ],
                          [
                            0.5555555555555556,
                            "#d8576b"
                          ],
                          [
                            0.6666666666666666,
                            "#ed7953"
                          ],
                          [
                            0.7777777777777778,
                            "#fb9f3a"
                          ],
                          [
                            0.8888888888888888,
                            "#fdca26"
                          ],
                          [
                            1,
                            "#f0f921"
                          ]
                        ],
                        "type": "heatmap"
                      }
                    ],
                    "histogram2dcontour": [
                      {
                        "colorbar": {
                          "outlinewidth": 0,
                          "ticks": ""
                        },
                        "colorscale": [
                          [
                            0,
                            "#0d0887"
                          ],
                          [
                            0.1111111111111111,
                            "#46039f"
                          ],
                          [
                            0.2222222222222222,
                            "#7201a8"
                          ],
                          [
                            0.3333333333333333,
                            "#9c179e"
                          ],
                          [
                            0.4444444444444444,
                            "#bd3786"
                          ],
                          [
                            0.5555555555555556,
                            "#d8576b"
                          ],
                          [
                            0.6666666666666666,
                            "#ed7953"
                          ],
                          [
                            0.7777777777777778,
                            "#fb9f3a"
                          ],
                          [
                            0.8888888888888888,
                            "#fdca26"
                          ],
                          [
                            1,
                            "#f0f921"
                          ]
                        ],
                        "type": "histogram2dcontour"
                      }
                    ],
                    "histogram2d": [
                      {
                        "colorbar": {
                          "outlinewidth": 0,
                          "ticks": ""
                        },
                        "colorscale": [
                          [
                            0,
                            "#0d0887"
                          ],
                          [
                            0.1111111111111111,
                            "#46039f"
                          ],
                          [
                            0.2222222222222222,
                            "#7201a8"
                          ],
                          [
                            0.3333333333333333,
                            "#9c179e"
                          ],
                          [
                            0.4444444444444444,
                            "#bd3786"
                          ],
                          [
                            0.5555555555555556,
                            "#d8576b"
                          ],
                          [
                            0.6666666666666666,
                            "#ed7953"
                          ],
                          [
                            0.7777777777777778,
                            "#fb9f3a"
                          ],
                          [
                            0.8888888888888888,
                            "#fdca26"
                          ],
                          [
                            1,
                            "#f0f921"
                          ]
                        ],
                        "type": "histogram2d"
                      }
                    ],
                    "histogram": [
                      {
                        "marker": {
                          "pattern": {
                            "fillmode": "overlay",
                            "size": 10,
                            "solidity": 0.2
                          }
                        },
                        "type": "histogram"
                      }
                    ],
                    "mesh3d": [
                      {
                        "colorbar": {
                          "outlinewidth": 0,
                          "ticks": ""
                        },
                        "type": "mesh3d"
                      }
                    ],
                    "parcoords": [
                      {
                        "line": {
                          "colorbar": {
                            "outlinewidth": 0,
                            "ticks": ""
                          }
                        },
                        "type": "parcoords"
                      }
                    ],
                    "pie": [
                      {
                        "automargin": true,
                        "type": "pie"
                      }
                    ],
                    "scatter3d": [
                      {
                        "line": {
                          "colorbar": {
                            "outlinewidth": 0,
                            "ticks": ""
                          }
                        },
                        "marker": {
                          "colorbar": {
                            "outlinewidth": 0,
                            "ticks": ""
                          }
                        },
                        "type": "scatter3d"
                      }
                    ],
                    "scattercarpet": [
                      {
                        "marker": {
                          "colorbar": {
                            "outlinewidth": 0,
                            "ticks": ""
                          }
                        },
                        "type": "scattercarpet"
                      }
                    ],
                    "scattergeo": [
                      {
                        "marker": {
                          "colorbar": {
                            "outlinewidth": 0,
                            "ticks": ""
                          }
                        },
                        "type": "scattergeo"
                      }
                    ],
                    "scattergl": [
                      {
                        "marker": {
                          "colorbar": {
                            "outlinewidth": 0,
                            "ticks": ""
                          }
                        },
                        "type": "scattergl"
                      }
                    ],
                    "scattermapbox": [
                      {
                        "marker": {
                          "colorbar": {
                            "outlinewidth": 0,
                            "ticks": ""
                          }
                        },
                        "type": "scattermapbox"
                      }
                    ],
                    "scatterpolargl": [
                      {
                        "marker": {
                          "colorbar": {
                            "outlinewidth": 0,
                            "ticks": ""
                          }
                        },
                        "type": "scatterpolargl"
                      }
                    ],
                    "scatterpolar": [
                      {
                        "marker": {
                          "colorbar": {
                            "outlinewidth": 0,
                            "ticks": ""
                          }
                        },
                        "type": "scatterpolar"
                      }
                    ],
                    "scatter": [
                      {
                        "fillpattern": {
                          "fillmode": "overlay",
                          "size": 10,
                          "solidity": 0.2
                        },
                        "type": "scatter"
                      }
                    ],
                    "scatterternary": [
                      {
                        "marker": {
                          "colorbar": {
                            "outlinewidth": 0,
                            "ticks": ""
                          }
                        },
                        "type": "scatterternary"
                      }
                    ],
                    "surface": [
                      {
                        "colorbar": {
                          "outlinewidth": 0,
                          "ticks": ""
                        },
                        "colorscale": [
                          [
                            0,
                            "#0d0887"
                          ],
                          [
                            0.1111111111111111,
                            "#46039f"
                          ],
                          [
                            0.2222222222222222,
                            "#7201a8"
                          ],
                          [
                            0.3333333333333333,
                            "#9c179e"
                          ],
                          [
                            0.4444444444444444,
                            "#bd3786"
                          ],
                          [
                            0.5555555555555556,
                            "#d8576b"
                          ],
                          [
                            0.6666666666666666,
                            "#ed7953"
                          ],
                          [
                            0.7777777777777778,
                            "#fb9f3a"
                          ],
                          [
                            0.8888888888888888,
                            "#fdca26"
                          ],
                          [
                            1,
                            "#f0f921"
                          ]
                        ],
                        "type": "surface"
                      }
                    ],
                    "table": [
                      {
                        "cells": {
                          "fill": {
                            "color": "#EBF0F8"
                          },
                          "line": {
                            "color": "white"
                          }
                        },
                        "header": {
                          "fill": {
                            "color": "#C8D4E3"
                          },
                          "line": {
                            "color": "white"
                          }
                        },
                        "type": "table"
                      }
                    ]
                  },
                  "layout": {
                    "annotationdefaults": {
                      "arrowcolor": "#2a3f5f",
                      "arrowhead": 0,
                      "arrowwidth": 1
                    },
                    "autotypenumbers": "strict",
                    "coloraxis": {
                      "colorbar": {
                        "outlinewidth": 0,
                        "ticks": ""
                      }
                    },
                    "colorscale": {
                      "diverging": [
                        [
                          0,
                          "#8e0152"
                        ],
                        [
                          0.1,
                          "#c51b7d"
                        ],
                        [
                          0.2,
                          "#de77ae"
                        ],
                        [
                          0.3,
                          "#f1b6da"
                        ],
                        [
                          0.4,
                          "#fde0ef"
                        ],
                        [
                          0.5,
                          "#f7f7f7"
                        ],
                        [
                          0.6,
                          "#e6f5d0"
                        ],
                        [
                          0.7,
                          "#b8e186"
                        ],
                        [
                          0.8,
                          "#7fbc41"
                        ],
                        [
                          0.9,
                          "#4d9221"
                        ],
                        [
                          1,
                          "#276419"
                        ]
                      ],
                      "sequential": [
                        [
                          0,
                          "#0d0887"
                        ],
                        [
                          0.1111111111111111,
                          "#46039f"
                        ],
                        [
                          0.2222222222222222,
                          "#7201a8"
                        ],
                        [
                          0.3333333333333333,
                          "#9c179e"
                        ],
                        [
                          0.4444444444444444,
                          "#bd3786"
                        ],
                        [
                          0.5555555555555556,
                          "#d8576b"
                        ],
                        [
                          0.6666666666666666,
                          "#ed7953"
                        ],
                        [
                          0.7777777777777778,
                          "#fb9f3a"
                        ],
                        [
                          0.8888888888888888,
                          "#fdca26"
                        ],
                        [
                          1,
                          "#f0f921"
                        ]
                      ],
                      "sequentialminus": [
                        [
                          0,
                          "#0d0887"
                        ],
                        [
                          0.1111111111111111,
                          "#46039f"
                        ],
                        [
                          0.2222222222222222,
                          "#7201a8"
                        ],
                        [
                          0.3333333333333333,
                          "#9c179e"
                        ],
                        [
                          0.4444444444444444,
                          "#bd3786"
                        ],
                        [
                          0.5555555555555556,
                          "#d8576b"
                        ],
                        [
                          0.6666666666666666,
                          "#ed7953"
                        ],
                        [
                          0.7777777777777778,
                          "#fb9f3a"
                        ],
                        [
                          0.8888888888888888,
                          "#fdca26"
                        ],
                        [
                          1,
                          "#f0f921"
                        ]
                      ]
                    },
                    "colorway": [
                      "#636efa",
                      "#EF553B",
                      "#00cc96",
                      "#ab63fa",
                      "#FFA15A",
                      "#19d3f3",
                      "#FF6692",
                      "#B6E880",
                      "#FF97FF",
                      "#FECB52"
                    ],
                    "font": {
                      "color": "#2a3f5f"
                    },
                    "geo": {
                      "bgcolor": "white",
                      "lakecolor": "white",
                      "landcolor": "#E5ECF6",
                      "showlakes": true,
                      "showland": true,
                      "subunitcolor": "white"
                    },
                    "hoverlabel": {
                      "align": "left"
                    },
                    "hovermode": "closest",
                    "mapbox": {
                      "style": "light"
                    },
                    "paper_bgcolor": "white",
                    "plot_bgcolor": "#E5ECF6",
                    "polar": {
                      "angularaxis": {
                        "gridcolor": "white",
                        "linecolor": "white",
                        "ticks": ""
                      },
                      "bgcolor": "#E5ECF6",
                      "radialaxis": {
                        "gridcolor": "white",
                        "linecolor": "white",
                        "ticks": ""
                      }
                    },
                    "scene": {
                      "xaxis": {
                        "backgroundcolor": "#E5ECF6",
                        "gridcolor": "white",
                        "gridwidth": 2,
                        "linecolor": "white",
                        "showbackground": true,
                        "ticks": "",
                        "zerolinecolor": "white"
                      },
                      "yaxis": {
                        "backgroundcolor": "#E5ECF6",
                        "gridcolor": "white",
                        "gridwidth": 2,
                        "linecolor": "white",
                        "showbackground": true,
                        "ticks": "",
                        "zerolinecolor": "white"
                      },
                      "zaxis": {
                        "backgroundcolor": "#E5ECF6",
                        "gridcolor": "white",
                        "gridwidth": 2,
                        "linecolor": "white",
                        "showbackground": true,
                        "ticks": "",
                        "zerolinecolor": "white"
                      }
                    },
                    "shapedefaults": {
                      "line": {
                        "color": "#2a3f5f"
                      }
                    },
                    "ternary": {
                      "aaxis": {
                        "gridcolor": "white",
                        "linecolor": "white",
                        "ticks": ""
                      },
                      "baxis": {
                        "gridcolor": "white",
                        "linecolor": "white",
                        "ticks": ""
                      },
                      "bgcolor": "#E5ECF6",
                      "caxis": {
                        "gridcolor": "white",
                        "linecolor": "white",
                        "ticks": ""
                      }
                    },
                    "title": {
                      "x": 0.05
                    },
                    "xaxis": {
                      "automargin": true,
                      "gridcolor": "white",
                      "linecolor": "white",
                      "ticks": "",
                      "title": {
                        "standoff": 15
                      },
                      "zerolinecolor": "white",
                      "zerolinewidth": 2
                    },
                    "yaxis": {
                      "automargin": true,
                      "gridcolor": "white",
                      "linecolor": "white",
                      "ticks": "",
                      "title": {
                        "standoff": 15
                      },
                      "zerolinecolor": "white",
                      "zerolinewidth": 2
                    }
                  }
                }
              },
              "config": {
                "showLink": false,
                "linkText": "Export to plot.ly",
                "plotlyServerURL": "https://plot.ly"
              }
            },
            "text/html": [
              "<div>                            <div id=\"7e264d45-2872-44e0-a145-d95f236f2c1a\" class=\"plotly-graph-div\" style=\"height:525px; width:100%;\"></div>            <script type=\"text/javascript\">                require([\"plotly\"], function(Plotly) {                    window.PLOTLYENV=window.PLOTLYENV || {};                                    if (document.getElementById(\"7e264d45-2872-44e0-a145-d95f236f2c1a\")) {                    Plotly.newPlot(                        \"7e264d45-2872-44e0-a145-d95f236f2c1a\",                        [{\"mode\":\"text\",\"text\":[\".\",\",\",\"the\",\"i\",\"to\",\"and\",\"a\",\"of\",\"in\",\"my\",\"it\",\"but\",\"for\",\"is\",\"on\",\"that\",\"with\",\"me\",\"her\",\"he\",\"at\",\"we\",\"you\",\"as\",\"was\",\"be\",\"have\",\"his\",\"one\",\"from\",\"not\",\"?\",\"this\",\"its\",\"up\",\"if\",\"had\",\"they\",\"out\",\"she\",\"can\",\"prim\",\"so\",\"us\",\"him\",\"are\",\"says\",\"no\",\"back\",\"into\",\"when\",\"all\",\"district\",\"then\",\"were\",\"our\",\"who\",\"will\",\"or\",\"!\",\"mother\",\"peeta\",\"even\",\"them\",\"just\",\"by\",\"has\",\"because\",\"say\",\"been\",\"only\",\"do\",\"never\",\"about\",\"gale\",\"what\",\"an\",\"there\",\"haymitch\",\"like\",\"their\",\"would\",\"time\",\"dont\",\"bread\",\"know\",\"people\",\"could\",\"capitol\",\"off\",\"your\",\"get\",\"im\",\"more\",\"see\",\"hes\",\"effie\",\"well\",\"how\",\"now\",\"home\",\"take\",\"day\",\"father\",\"myself\",\"two\",\"trinket\",\"woods\",\"come\",\"too\",\"reaping\",\"some\",\"still\",\"cant\",\"way\",\"think\",\"theres\",\"enough\",\"year\",\"few\",\"12\",\"must\",\"once\",\"other\",\"little\",\"shes\",\"make\",\"ive\",\"around\",\"good\",\"seam\",\"since\",\"years\",\"over\",\"name\",\"train\",\"face\",\"did\",\"go\",\"through\",\"school\",\"always\",\"look\",\"let\",\"eyes\",\"away\",\"made\",\"thing\",\"might\",\"where\",\"ill\",\"being\",\"place\",\"those\",\"before\",\"another\",\"small\",\"really\",\"games\",\"down\",\"much\",\"every\",\"first\",\"right\",\"hair\",\"help\",\"going\",\"anything\",\"boy\",\"didnt\",\"hands\",\"than\",\"want\",\"which\",\"something\",\"each\",\"trying\",\"stage\",\"kids\",\"old\",\"keep\",\"almost\",\"last\",\"mellark\",\"someone\",\"between\",\"room\",\"death\",\"head\",\"feel\",\"districts\",\"again\",\"hand\",\"thats\",\"tributes\",\"maybe\",\"doesnt\",\"food\",\"put\",\"remember\",\"voice\",\"dress\",\"table\",\"id\",\"course\",\"hunting\",\"prims\",\"katniss\",\"any\",\"moment\",\"door\",\"theyre\",\"very\",\"bed\",\"live\",\"while\",\"times\",\"until\",\"family\",\"hunger\",\"turn\",\"seen\",\"girl\",\"tesserae\",\"fish\",\"most\",\"hold\",\"kill\",\"tribute\",\"hard\",\"coal\",\"nothing\",\"bakery\",\"try\",\"crowd\",\"called\",\"behind\",\"eat\",\"why\",\"leave\",\"here\",\"watch\",\"best\",\"arms\",\"hob\",\"ago\",\"big\",\"slip\",\"today\",\"three\",\"matter\",\"real\",\"panem\",\"morning\",\"stand\",\"knife\",\"inside\",\"against\",\"find\",\"may\",\"madge\",\"after\",\"game\",\"better\",\"same\",\"wont\",\"does\",\"trade\",\"lot\",\"am\",\"seem\",\"names\",\"both\",\"supper\",\"ever\",\"mayor\",\"loaves\",\"dark\",\"greens\",\"grain\",\"peacekeepers\",\"market\",\"carefully\",\"fathers\",\"afford\",\"black\",\"reach\",\"kind\",\"toward\",\"money\",\"pin\",\"odds\",\"forward\",\"hear\",\"fingers\",\"twelve\",\"thought\",\"days\",\"night\",\"cry\",\"went\",\"clear\",\"wild\",\"couldnt\",\"glass\",\"hot\",\"bakers\",\"fence\",\"bird\",\"part\",\"care\",\"cheese\",\"hours\",\"next\",\"youre\",\"having\",\"strawberries\",\"got\",\"arena\",\"alive\",\"though\",\"least\",\"become\",\"feed\",\"mothers\",\"sits\",\"ball\",\"sister\",\"plants\",\"feet\",\"long\",\"probably\",\"under\",\"goat\",\"warm\",\"words\",\"bit\",\"things\",\"quickly\",\"clothes\",\"makes\",\"bow\",\"own\",\"done\",\"holds\",\"girls\",\"pull\",\"knew\",\"turned\",\"waiting\",\"life\",\"love\",\"blouse\",\"green\",\"fine\",\"gave\",\"sometimes\",\"open\",\"although\",\"stay\",\"instead\",\"volunteer\",\"idea\",\"meat\",\"far\",\"nose\",\"took\",\"already\",\"running\",\"else\",\"deep\",\"hunt\",\"finally\",\"stuff\",\"found\",\"asks\",\"set\",\"read\",\"hit\",\"such\",\"pulls\",\"gives\",\"falls\",\"suddenly\",\"son\",\"rich\",\"besides\",\"youll\",\"whole\",\"station\",\"attention\",\"left\",\"mines\",\"meadow\",\"eating\",\"work\",\"building\",\"red\",\"justice\",\"burned\",\"begin\",\"man\",\"wall\",\"dandelion\",\"pretty\",\"birds\",\"told\",\"volunteers\",\"fighting\",\"goes\",\"knows\",\"yes\",\"tonight\",\"wood\",\"lets\",\"tears\",\"buy\",\"sleep\",\"together\",\"bad\",\"deal\",\"exchange\",\"began\",\"months\",\"except\",\"spent\",\"oil\",\"takes\",\"rain\",\"sit\",\"cookies\",\"person\",\"amount\",\"couple\",\"point\",\"die\",\"light\",\"everyone\",\"ones\",\"white\",\"word\",\"said\",\"boys\",\"special\",\"also\",\"squirrel\",\"soft\",\"podium\",\"usually\",\"many\",\"blue\",\"faces\",\"streets\",\"isnt\",\"several\",\"hasnt\",\"taking\",\"favor\",\"front\",\"across\",\"sweet\",\"air\",\"bushes\",\"skin\",\"means\",\"meal\",\"stew\",\"protect\",\"shirt\",\"water\",\"rest\",\"strong\",\"gold\",\"arm\",\"tree\",\"herself\",\"thinking\",\"reapings\",\"bright\",\"give\",\"looking\",\"chair\",\"woman\",\"paper\",\"tried\",\"wasnt\",\"shot\",\"without\",\"along\",\"ask\",\"everything\",\"begins\",\"steps\",\"wear\",\"run\",\"window\"],\"x\":[49.732688903808594,50.13024139404297,50.11985397338867,49.069339752197266,50.19886779785156,50.08384704589844,50.160953521728516,48.21485137939453,48.05863952636719,49.25614929199219,47.29228210449219,48.6317138671875,48.14368438720703,47.62968063354492,46.176429748535156,47.200469970703125,46.40932083129883,46.45435333251953,44.37823486328125,45.59800338745117,47.36494445800781,46.95248794555664,43.77627944946289,48.3662109375,36.52154541015625,46.14120101928711,45.31215286254883,46.03112030029297,46.734893798828125,47.04632568359375,39.58047103881836,35.75913619995117,41.60142517089844,36.68474578857422,42.441200256347656,42.963531494140625,43.628822326660156,41.71780014038086,45.009281158447266,40.97371292114258,46.135643005371094,36.9422721862793,37.41234588623047,43.47686767578125,40.29412078857422,42.51127243041992,34.781028747558594,36.77513885498047,40.93021774291992,42.67072296142578,41.60968780517578,39.5656623840332,36.93553161621094,37.31757736206055,42.294734954833984,41.77190399169922,48.32374572753906,40.6342887878418,44.179466247558594,35.260013580322266,33.95029067993164,40.4372673034668,38.28540802001953,37.064483642578125,37.75413131713867,39.7220573425293,45.012290954589844,43.3726806640625,18.2847900390625,42.33189392089844,36.54521942138672,34.28253173828125,42.014060974121094,34.7854118347168,41.56279754638672,38.60914993286133,39.86928176879883,37.77463150024414,28.85125160217285,36.35944747924805,42.61619186401367,35.46953201293945,35.8131103515625,30.2134952545166,37.862815856933594,30.53706932067871,26.03167724609375,32.179073333740234,22.946489334106445,36.01933288574219,34.58485794067383,34.0714225769043,31.217456817626953,34.080833435058594,29.523677825927734,29.892545700073242,32.975894927978516,23.76298713684082,33.75168991088867,30.606393814086914,23.337501525878906,29.124629974365234,24.830989837646484,17.385513305664062,18.66761016845703,28.122684478759766,30.122236251831055,16.464067459106445,22.058130264282227,30.81005096435547,28.74026870727539,30.2657413482666,28.725107192993164,19.13360595703125,24.404542922973633,7.243191719055176,29.406251907348633,29.132244110107422,21.232698440551758,19.740468978881836,22.372329711914062,21.33749008178711,21.24205207824707,29.1732177734375,28.091747283935547,22.05958366394043,29.275653839111328,23.24945068359375,18.400632858276367,24.997968673706055,17.107460021972656,21.515430450439453,29.720151901245117,27.489416122436523,26.72181510925293,23.98766326904297,1.258399486541748,9.597597122192383,22.64284324645996,17.254413604736328,15.212141036987305,25.803892135620117,17.771278381347656,9.268303871154785,24.67940902709961,16.407461166381836,27.921157836914062,23.78788948059082,8.813584327697754,16.778947830200195,17.856643676757812,21.0448055267334,4.634234428405762,20.825450897216797,24.850465774536133,22.825498580932617,16.54486083984375,23.825321197509766,14.680968284606934,19.107467651367188,15.561616897583008,17.761810302734375,13.035078048706055,20.587753295898438,20.84029769897461,9.389298439025879,13.562697410583496,12.101663589477539,26.771244049072266,12.225898742675781,1.8690471649169922,26.76956558227539,6.236425399780273,18.804244995117188,8.518362045288086,20.589235305786133,25.826566696166992,12.44865894317627,19.985916137695312,25.292217254638672,19.43822479248047,9.15392017364502,10.242696762084961,12.83702564239502,16.293575286865234,15.582533836364746,-13.395745277404785,-5.219269752502441,-15.256260871887207,-8.181346893310547,12.535136222839355,-5.968108177185059,10.621994972229004,-7.259716033935547,9.893332481384277,-2.251875162124634,3.143120765686035,4.318187236785889,9.925993919372559,5.41429328918457,-9.971559524536133,7.197148323059082,7.706336975097656,17.339271545410156,-45.21961212158203,3.1317131519317627,4.021237850189209,-5.124610900878906,-6.533933162689209,-13.33080768585205,-28.51187515258789,-4.4410200119018555,-0.9877511262893677,-7.327692985534668,2.1161179542541504,10.808913230895996,3.0013339519500732,11.007513046264648,12.247790336608887,5.593801975250244,-1.9372740983963013,0.12906725704669952,2.2239365577697754,3.6101231575012207,-0.5593255162239075,-11.354987144470215,-0.5901393294334412,5.396373748779297,15.870004653930664,7.725372314453125,6.051215171813965,12.804192543029785,-12.741488456726074,-12.072013854980469,5.38334321975708,0.38674768805503845,-6.419658660888672,2.545323610305786,-8.239702224731445,-4.052596569061279,10.096258163452148,13.98872184753418,5.949350833892822,-8.239344596862793,0.35525795817375183,4.784680366516113,12.071084976196289,3.080925703048706,-0.23823955655097961,8.930253028869629,4.58982515335083,-22.01320457458496,-19.191604614257812,2.3242156505584717,-24.842857360839844,-10.514763832092285,-5.444954872131348,3.691359758377075,-11.67608642578125,-0.7053306102752686,-6.152801990509033,-7.4850239753723145,-2.6022768020629883,7.862339019775391,-7.933348655700684,-13.881549835205078,5.623782634735107,9.311018943786621,-25.239215850830078,-26.082319259643555,-1.3176194429397583,6.054800510406494,-12.745075225830078,-44.71828079223633,8.793591499328613,-34.4117431640625,-0.9510899186134338,-8.654760360717773,10.359657287597656,2.8410744667053223,-9.0228910446167,-5.657334327697754,-20.031784057617188,-6.740407466888428,-33.6458625793457,-8.5962553024292,-37.62371063232422,-8.16359806060791,-19.541109085083008,-9.605692863464355,-15.689218521118164,-0.9029757976531982,-5.072507381439209,-1.1189723014831543,-3.552182912826538,-16.728374481201172,-11.497247695922852,-0.17315594851970673,-3.3115663528442383,-21.317773818969727,-27.658445358276367,-22.0260066986084,-24.273157119750977,-43.3087043762207,-15.153529167175293,-31.615257263183594,-45.18038558959961,-17.220746994018555,-38.570274353027344,-13.404592514038086,-23.951904296875,-9.515764236450195,-13.618908882141113,-7.223310947418213,-33.656917572021484,0.16652852296829224,-30.7758731842041,-28.836034774780273,-10.955212593078613,-25.770723342895508,-22.515567779541016,-46.582305908203125,-18.11522102355957,-37.52455520629883,-12.052383422851562,-33.89898681640625,10.614235877990723,-31.607994079589844,-38.01313018798828,-46.61968231201172,-0.19385071098804474,-11.63050651550293,-15.234936714172363,-30.10416030883789,-19.15911102294922,-31.069616317749023,-12.872560501098633,-25.641014099121094,-14.030896186828613,-18.460617065429688,-28.45340347290039,-45.67552947998047,-45.827964782714844,-20.145612716674805,-13.801023483276367,-17.302316665649414,-25.4526424407959,-29.777240753173828,-25.26714515686035,-39.14727783203125,-7.803380012512207,-33.4884147644043,-47.35757064819336,-21.439611434936523,-22.36839485168457,-14.840882301330566,-48.35026550292969,-35.19351577758789,-24.995290756225586,-26.347288131713867,-44.03438949584961,-14.399469375610352,-46.53205490112305,-21.36144256591797,-8.771432876586914,-46.03253936767578,-19.005489349365234,-22.494592666625977,-24.031469345092773,-18.39917755126953,-24.452125549316406,-40.30974578857422,-18.68280029296875,-35.91072463989258,-23.820682525634766,-37.21763610839844,-23.596757888793945,0.11521996557712555,-14.530728340148926,-38.13593673706055,-15.3193359375,-36.98575210571289,-36.90302276611328,-26.339576721191406,-24.57396697998047,-43.96926498413086,-31.17537498474121,-34.14517593383789,-47.15126419067383,-41.613319396972656,-23.258745193481445,-22.0643253326416,-38.65620422363281,-32.451107025146484,-27.31736183166504,-31.731170654296875,-12.815732955932617,-47.79581069946289,-2.5618183612823486,-5.609971046447754,-18.088300704956055,-11.984025001525879,-8.88016414642334,-20.817333221435547,-22.478172302246094,-42.50667190551758,-36.54231262207031,-16.54007911682129,-20.408220291137695,-33.382957458496094,-30.58368492126465,-45.426307678222656,-45.485267639160156,-43.87535095214844,-36.771209716796875,-46.34162139892578,-36.212242126464844,-38.2782096862793,-42.9601936340332,-35.11756896972656,-38.115509033203125,-44.411476135253906,-44.68033981323242,-45.835140228271484,-46.4526252746582,-32.106563568115234,-14.975608825683594,-29.608722686767578,-23.450401306152344,-21.406591415405273,-44.413475036621094,-32.370548248291016,-35.85175323486328,-42.592708587646484,-15.824712753295898,-6.200936317443848,-28.43588638305664,-26.08741569519043,-40.47081756591797,-30.42693519592285,-19.169597625732422,-43.280033111572266,-26.67685890197754,-43.193572998046875,-34.04822540283203,-47.52900314331055,-42.83346176147461,-25.14362144470215,-29.8298282623291,-30.475669860839844,-13.324383735656738,-46.10904312133789,-40.85713577270508,-37.07911682128906,-21.261314392089844,-27.304931640625,-31.73858070373535,-35.97921371459961,-27.38899040222168,-29.57155990600586,-32.79811096191406,-48.36759948730469,-43.07906723022461,-43.722862243652344,-17.29074478149414,-41.025230407714844,-23.27408790588379,-41.9849853515625,-31.043832778930664,-37.927001953125,-27.383352279663086,-35.44981002807617,-17.539691925048828,-41.524497985839844,-45.254817962646484,-47.841880798339844,-6.14794397354126,-27.399154663085938,-18.219411849975586,-38.46098327636719,-41.877159118652344,-26.591352462768555,-35.304561614990234,-19.096050262451172,-37.27368927001953,-36.45695114135742,-39.38079071044922,-1.3072826862335205,-21.32396125793457,-47.52034378051758,-29.399019241333008,-18.006656646728516,-38.729862213134766,-25.345233917236328,-36.93199157714844,-8.699024200439453],\"y\":[-3.559558629989624,-3.6235837936401367,-3.6236860752105713,-3.482002019882202,-3.633089780807495,-3.6186671257019043,-3.627204179763794,-3.061316728591919,-3.5890791416168213,-3.500668525695801,-2.9642045497894287,-3.352356195449829,-3.5524110794067383,-3.0109355449676514,-2.8068394660949707,-3.522376537322998,-3.348966360092163,-2.7686824798583984,-2.750037670135498,-2.9303581714630127,-3.4747984409332275,-2.976490020751953,-2.5315511226654053,-3.09477162361145,-0.7569431066513062,-2.7757859230041504,-2.919454574584961,-3.2653093338012695,-3.421705722808838,-2.9061434268951416,-1.9614770412445068,-1.0504413843154907,-1.9976768493652344,-0.8988207578659058,-2.2565248012542725,-2.468090534210205,-2.8125321865081787,-2.3831491470336914,-2.905039072036743,-2.1178324222564697,-3.3077118396759033,-1.0535082817077637,-1.6282645463943481,-2.3612592220306396,-1.9947834014892578,-2.102825880050659,-0.8356121182441711,-1.6062496900558472,-2.343418598175049,-2.7644364833831787,-2.7077269554138184,-1.818031907081604,-1.7599279880523682,-1.1032754182815552,-2.759441614151001,-2.720074415206909,-3.5765745639801025,-1.8749573230743408,-2.7706918716430664,-1.0160869359970093,-0.6527103185653687,-2.3273611068725586,-1.632240891456604,-0.9996544122695923,-1.6716210842132568,-1.946702241897583,-2.830383777618408,-2.848978281021118,3.1714088916778564,-2.8391575813293457,-1.4894570112228394,-0.35731780529022217,-2.0111308097839355,-0.45689642429351807,-1.9852285385131836,-1.6390010118484497,-1.8033181428909302,-1.3285753726959229,0.6408087611198425,-1.352459192276001,-2.110771656036377,-0.6443448066711426,-1.2376315593719482,0.9626229405403137,-1.200330138206482,0.40787473320961,1.946710228919983,0.10202724486589432,2.765070915222168,-0.7350574731826782,-0.7204523682594299,-0.5495203733444214,0.3709396719932556,-0.32611900568008423,0.6093757152557373,0.47439685463905334,-0.1334754377603531,2.2792105674743652,-0.34179452061653137,0.6139817833900452,2.9306013584136963,0.7737399935722351,1.940972924232483,3.0034618377685547,3.5551116466522217,1.251024603843689,1.1252697706222534,3.504270553588867,3.1208996772766113,0.727717936038971,1.3689831495285034,0.39067015051841736,0.9879683256149292,3.481234550476074,2.1348142623901367,2.8831069469451904,1.1995646953582764,1.331167459487915,3.2712600231170654,3.162411689758301,2.672804832458496,2.5918376445770264,3.2465686798095703,0.6094428300857544,1.2605867385864258,2.716320037841797,1.4596259593963623,2.2346415519714355,3.720950126647949,2.490293025970459,3.3337724208831787,3.130629062652588,1.1346614360809326,1.451909065246582,1.7651368379592896,2.6806461811065674,1.1160672903060913,2.5574512481689453,3.0382843017578125,3.576241970062256,3.5938374996185303,2.0859594345092773,3.5562245845794678,2.683770179748535,2.5752432346343994,3.9412972927093506,1.5470846891403198,2.3060855865478516,3.387640953063965,3.9441657066345215,3.173898935317993,2.9127142429351807,2.5120861530303955,2.8570289611816406,2.247485637664795,2.551445960998535,3.139944314956665,2.8102550506591797,3.6110341548919678,3.2095179557800293,3.4580771923065186,3.996384382247925,3.5147430896759033,2.883244752883911,3.397364377975464,3.296921730041504,3.67276930809021,3.2837231159210205,1.7261602878570557,3.2736153602600098,1.7485932111740112,1.6842470169067383,3.0434982776641846,3.186854362487793,2.8170266151428223,3.585498809814453,1.9214802980422974,3.8029329776763916,3.3709118366241455,2.0121371746063232,3.6912381649017334,2.849405527114868,3.8254897594451904,3.064850330352783,3.500154972076416,3.594275712966919,-0.3705078065395355,0.25308865308761597,-2.400205135345459,-1.1949394941329956,3.2051708698272705,-0.14592179656028748,3.463710069656372,0.18330253660678864,3.5741446018218994,-0.30992552638053894,2.0676209926605225,1.718774437904358,3.0199973583221436,2.2660913467407227,-1.3271455764770508,2.2749247550964355,2.678560972213745,3.892418622970581,-0.1367674469947815,1.8615361452102661,2.238419532775879,-1.0733882188796997,-1.3069368600845337,-2.0089619159698486,-1.3752385377883911,0.06087758392095566,0.9943114519119263,0.03792485222220421,1.6795235872268677,3.5019006729125977,1.9033499956130981,3.2601265907287598,3.921252965927124,2.783834218978882,0.3689834177494049,1.4077539443969727,1.230618953704834,1.885635256767273,-0.2870822250843048,-1.140796422958374,0.1018606498837471,2.6761341094970703,3.853273868560791,3.189641237258911,2.132997989654541,3.553767204284668,-0.6392865180969238,-2.062673807144165,1.9264878034591675,1.2980011701583862,-0.20378310978412628,1.56607186794281,-0.36689257621765137,-0.2688266634941101,3.096849203109741,3.5183804035186768,2.0738303661346436,0.103990837931633,0.5337441563606262,2.209044933319092,3.815417766571045,1.3753676414489746,0.20362989604473114,3.1194329261779785,1.7349238395690918,-0.3763680160045624,-2.886563301086426,0.7551395297050476,-0.5366309881210327,-1.7311582565307617,0.017379552125930786,1.3201018571853638,-0.2847251296043396,0.29645803570747375,-0.0930505245923996,-1.5572789907455444,0.4373026192188263,2.721668243408203,-1.7445353269577026,-1.1112943887710571,1.8263236284255981,3.8717973232269287,-2.185154438018799,-1.4062789678573608,0.9681444764137268,2.569669008255005,-2.025067090988159,-0.4356667399406433,3.6479666233062744,-0.11100325733423233,0.8383195996284485,-1.0834400653839111,2.7167723178863525,2.4927358627319336,-1.5559890270233154,-1.5929605960845947,-1.2230395078659058,-0.7192594408988953,-0.4578877389431,-0.37177780270576477,-0.03230232000350952,-0.8801153302192688,-0.8165264129638672,-1.3170686960220337,-1.7247087955474854,0.4510708153247833,-0.3912065923213959,1.2246041297912598,-0.02718079648911953,-1.3172776699066162,-1.620780348777771,1.0733031034469604,-0.0753074362874031,-0.13939891755580902,0.3331899046897888,-0.6407082080841064,-2.544203758239746,0.8659794926643372,-0.8653483390808105,-0.6526490449905396,0.869265079498291,-2.921067476272583,-0.21071425080299377,-2.621367931365967,-0.6983580589294434,-0.17059171199798584,-2.3179914951324463,-0.7755769491195679,0.6011688113212585,0.20442426204681396,0.015700971707701683,-0.6724501848220825,-1.1125127077102661,0.18099667131900787,-1.8803226947784424,-0.20239733159542084,-1.0851812362670898,-1.1778312921524048,-0.9591590166091919,-0.12855692207813263,2.925908088684082,0.10310491919517517,-1.0372999906539917,-0.3877241313457489,0.48833853006362915,-1.4513342380523682,-1.0930113792419434,-0.04776836186647415,-1.316849946975708,-1.9118443727493286,-2.4427218437194824,-2.3509795665740967,-0.9069310426712036,-2.4584813117980957,0.3192653954029083,-0.13569295406341553,0.794642984867096,-1.494872808456421,-2.6099495887756348,-2.561771869659424,0.6961058974266052,-0.7200022339820862,-1.6072721481323242,-0.6244499683380127,-1.1996337175369263,-1.3871479034423828,0.39444610476493835,-1.085914969444275,0.2114378958940506,-2.8014395236968994,-0.2700805068016052,-1.1536048650741577,-0.7099613547325134,0.09990258514881134,0.898393988609314,-1.62929105758667,0.5961207151412964,-2.4425275325775146,-2.2562379837036133,0.20503775775432587,-2.9786922931671143,-1.7195507287979126,-0.7581672072410583,-2.530102252960205,-1.6862399578094482,-0.3076755106449127,-0.9621736407279968,-0.977230429649353,-1.28990638256073,0.4463185966014862,-2.181406021118164,1.1018383502960205,-1.9379709959030151,-1.157608151435852,-1.6873334646224976,-0.026058634743094444,0.3090343773365021,-0.25718605518341064,0.05608439818024635,0.09100056439638138,-1.3531399965286255,-0.9925103187561035,0.10449349880218506,0.5431576371192932,-0.6181337833404541,-2.7248148918151855,0.2447558045387268,-0.287189781665802,-1.6184966564178467,0.1351577639579773,-1.5314699411392212,-0.3242826461791992,0.20901794731616974,-0.7869446873664856,-2.594557523727417,-2.027843713760376,-1.6049890518188477,-1.3185093402862549,-0.7093644738197327,-0.5974090099334717,0.5220197439193726,-1.2942835092544556,-0.4919203221797943,0.19317340850830078,-1.857367992401123,-0.8151114583015442,-0.3858610987663269,-0.5323731303215027,-1.0232141017913818,0.47730639576911926,-0.9471315741539001,0.5832599401473999,0.627192497253418,0.3884262144565582,0.3097892701625824,0.5339981317520142,0.0061921714805066586,0.4208465814590454,-0.6156290173530579,-0.3950674533843994,-3.018397331237793,-2.090515375137329,0.03447864204645157,-0.5461166501045227,-0.702474057674408,-1.177359700202942,-0.44973450899124146,-0.044779203832149506,-2.618450880050659,-1.108221411705017,-1.1602976322174072,-0.34177228808403015,-0.36008840799331665,-1.1823381185531616,-1.8593456745147705,0.6534221172332764,-1.1417796611785889,-0.9112758040428162,-1.1124955415725708,0.3124733567237854,0.4649164080619812,-0.9454676508903503,-1.614367961883545,-1.032987117767334,-1.1197046041488647,-0.42414212226867676,0.3004462718963623,1.2685953378677368,-1.0226643085479736,-0.22353824973106384,-1.0182136297225952,0.45971056818962097,-1.0450571775436401,-1.6898365020751953,-0.9375004172325134,-0.09980299323797226,-0.3761689066886902,-0.08912302553653717,-1.7976487874984741,0.9446993470191956,-1.8676552772521973,-0.16898564994335175,-1.2781610488891602,0.44144129753112793,-1.230891227722168,1.203215479850769,-2.0005404949188232,-0.30431845784187317,-0.11635137349367142,-0.39805498719215393,-1.3141485452651978,-0.3228834569454193,-1.2914782762527466,-0.7462210655212402,-0.1876208633184433,-1.6509884595870972,-0.3010895848274231,-1.692101001739502,-0.6651884317398071,-0.020771706476807594,0.03526715189218521,0.07157889753580093,-2.5504889488220215,-0.5807181000709534,-0.4343508780002594,-2.0748913288116455,0.20847094058990479,-0.7455263137817383,1.2617735862731934,-1.4554619789123535],\"type\":\"scatter\"}],                        {\"template\":{\"data\":{\"barpolar\":[{\"marker\":{\"line\":{\"color\":\"#E5ECF6\",\"width\":0.5},\"pattern\":{\"fillmode\":\"overlay\",\"size\":10,\"solidity\":0.2}},\"type\":\"barpolar\"}],\"bar\":[{\"error_x\":{\"color\":\"#2a3f5f\"},\"error_y\":{\"color\":\"#2a3f5f\"},\"marker\":{\"line\":{\"color\":\"#E5ECF6\",\"width\":0.5},\"pattern\":{\"fillmode\":\"overlay\",\"size\":10,\"solidity\":0.2}},\"type\":\"bar\"}],\"carpet\":[{\"aaxis\":{\"endlinecolor\":\"#2a3f5f\",\"gridcolor\":\"white\",\"linecolor\":\"white\",\"minorgridcolor\":\"white\",\"startlinecolor\":\"#2a3f5f\"},\"baxis\":{\"endlinecolor\":\"#2a3f5f\",\"gridcolor\":\"white\",\"linecolor\":\"white\",\"minorgridcolor\":\"white\",\"startlinecolor\":\"#2a3f5f\"},\"type\":\"carpet\"}],\"choropleth\":[{\"colorbar\":{\"outlinewidth\":0,\"ticks\":\"\"},\"type\":\"choropleth\"}],\"contourcarpet\":[{\"colorbar\":{\"outlinewidth\":0,\"ticks\":\"\"},\"type\":\"contourcarpet\"}],\"contour\":[{\"colorbar\":{\"outlinewidth\":0,\"ticks\":\"\"},\"colorscale\":[[0.0,\"#0d0887\"],[0.1111111111111111,\"#46039f\"],[0.2222222222222222,\"#7201a8\"],[0.3333333333333333,\"#9c179e\"],[0.4444444444444444,\"#bd3786\"],[0.5555555555555556,\"#d8576b\"],[0.6666666666666666,\"#ed7953\"],[0.7777777777777778,\"#fb9f3a\"],[0.8888888888888888,\"#fdca26\"],[1.0,\"#f0f921\"]],\"type\":\"contour\"}],\"heatmapgl\":[{\"colorbar\":{\"outlinewidth\":0,\"ticks\":\"\"},\"colorscale\":[[0.0,\"#0d0887\"],[0.1111111111111111,\"#46039f\"],[0.2222222222222222,\"#7201a8\"],[0.3333333333333333,\"#9c179e\"],[0.4444444444444444,\"#bd3786\"],[0.5555555555555556,\"#d8576b\"],[0.6666666666666666,\"#ed7953\"],[0.7777777777777778,\"#fb9f3a\"],[0.8888888888888888,\"#fdca26\"],[1.0,\"#f0f921\"]],\"type\":\"heatmapgl\"}],\"heatmap\":[{\"colorbar\":{\"outlinewidth\":0,\"ticks\":\"\"},\"colorscale\":[[0.0,\"#0d0887\"],[0.1111111111111111,\"#46039f\"],[0.2222222222222222,\"#7201a8\"],[0.3333333333333333,\"#9c179e\"],[0.4444444444444444,\"#bd3786\"],[0.5555555555555556,\"#d8576b\"],[0.6666666666666666,\"#ed7953\"],[0.7777777777777778,\"#fb9f3a\"],[0.8888888888888888,\"#fdca26\"],[1.0,\"#f0f921\"]],\"type\":\"heatmap\"}],\"histogram2dcontour\":[{\"colorbar\":{\"outlinewidth\":0,\"ticks\":\"\"},\"colorscale\":[[0.0,\"#0d0887\"],[0.1111111111111111,\"#46039f\"],[0.2222222222222222,\"#7201a8\"],[0.3333333333333333,\"#9c179e\"],[0.4444444444444444,\"#bd3786\"],[0.5555555555555556,\"#d8576b\"],[0.6666666666666666,\"#ed7953\"],[0.7777777777777778,\"#fb9f3a\"],[0.8888888888888888,\"#fdca26\"],[1.0,\"#f0f921\"]],\"type\":\"histogram2dcontour\"}],\"histogram2d\":[{\"colorbar\":{\"outlinewidth\":0,\"ticks\":\"\"},\"colorscale\":[[0.0,\"#0d0887\"],[0.1111111111111111,\"#46039f\"],[0.2222222222222222,\"#7201a8\"],[0.3333333333333333,\"#9c179e\"],[0.4444444444444444,\"#bd3786\"],[0.5555555555555556,\"#d8576b\"],[0.6666666666666666,\"#ed7953\"],[0.7777777777777778,\"#fb9f3a\"],[0.8888888888888888,\"#fdca26\"],[1.0,\"#f0f921\"]],\"type\":\"histogram2d\"}],\"histogram\":[{\"marker\":{\"pattern\":{\"fillmode\":\"overlay\",\"size\":10,\"solidity\":0.2}},\"type\":\"histogram\"}],\"mesh3d\":[{\"colorbar\":{\"outlinewidth\":0,\"ticks\":\"\"},\"type\":\"mesh3d\"}],\"parcoords\":[{\"line\":{\"colorbar\":{\"outlinewidth\":0,\"ticks\":\"\"}},\"type\":\"parcoords\"}],\"pie\":[{\"automargin\":true,\"type\":\"pie\"}],\"scatter3d\":[{\"line\":{\"colorbar\":{\"outlinewidth\":0,\"ticks\":\"\"}},\"marker\":{\"colorbar\":{\"outlinewidth\":0,\"ticks\":\"\"}},\"type\":\"scatter3d\"}],\"scattercarpet\":[{\"marker\":{\"colorbar\":{\"outlinewidth\":0,\"ticks\":\"\"}},\"type\":\"scattercarpet\"}],\"scattergeo\":[{\"marker\":{\"colorbar\":{\"outlinewidth\":0,\"ticks\":\"\"}},\"type\":\"scattergeo\"}],\"scattergl\":[{\"marker\":{\"colorbar\":{\"outlinewidth\":0,\"ticks\":\"\"}},\"type\":\"scattergl\"}],\"scattermapbox\":[{\"marker\":{\"colorbar\":{\"outlinewidth\":0,\"ticks\":\"\"}},\"type\":\"scattermapbox\"}],\"scatterpolargl\":[{\"marker\":{\"colorbar\":{\"outlinewidth\":0,\"ticks\":\"\"}},\"type\":\"scatterpolargl\"}],\"scatterpolar\":[{\"marker\":{\"colorbar\":{\"outlinewidth\":0,\"ticks\":\"\"}},\"type\":\"scatterpolar\"}],\"scatter\":[{\"fillpattern\":{\"fillmode\":\"overlay\",\"size\":10,\"solidity\":0.2},\"type\":\"scatter\"}],\"scatterternary\":[{\"marker\":{\"colorbar\":{\"outlinewidth\":0,\"ticks\":\"\"}},\"type\":\"scatterternary\"}],\"surface\":[{\"colorbar\":{\"outlinewidth\":0,\"ticks\":\"\"},\"colorscale\":[[0.0,\"#0d0887\"],[0.1111111111111111,\"#46039f\"],[0.2222222222222222,\"#7201a8\"],[0.3333333333333333,\"#9c179e\"],[0.4444444444444444,\"#bd3786\"],[0.5555555555555556,\"#d8576b\"],[0.6666666666666666,\"#ed7953\"],[0.7777777777777778,\"#fb9f3a\"],[0.8888888888888888,\"#fdca26\"],[1.0,\"#f0f921\"]],\"type\":\"surface\"}],\"table\":[{\"cells\":{\"fill\":{\"color\":\"#EBF0F8\"},\"line\":{\"color\":\"white\"}},\"header\":{\"fill\":{\"color\":\"#C8D4E3\"},\"line\":{\"color\":\"white\"}},\"type\":\"table\"}]},\"layout\":{\"annotationdefaults\":{\"arrowcolor\":\"#2a3f5f\",\"arrowhead\":0,\"arrowwidth\":1},\"autotypenumbers\":\"strict\",\"coloraxis\":{\"colorbar\":{\"outlinewidth\":0,\"ticks\":\"\"}},\"colorscale\":{\"diverging\":[[0,\"#8e0152\"],[0.1,\"#c51b7d\"],[0.2,\"#de77ae\"],[0.3,\"#f1b6da\"],[0.4,\"#fde0ef\"],[0.5,\"#f7f7f7\"],[0.6,\"#e6f5d0\"],[0.7,\"#b8e186\"],[0.8,\"#7fbc41\"],[0.9,\"#4d9221\"],[1,\"#276419\"]],\"sequential\":[[0.0,\"#0d0887\"],[0.1111111111111111,\"#46039f\"],[0.2222222222222222,\"#7201a8\"],[0.3333333333333333,\"#9c179e\"],[0.4444444444444444,\"#bd3786\"],[0.5555555555555556,\"#d8576b\"],[0.6666666666666666,\"#ed7953\"],[0.7777777777777778,\"#fb9f3a\"],[0.8888888888888888,\"#fdca26\"],[1.0,\"#f0f921\"]],\"sequentialminus\":[[0.0,\"#0d0887\"],[0.1111111111111111,\"#46039f\"],[0.2222222222222222,\"#7201a8\"],[0.3333333333333333,\"#9c179e\"],[0.4444444444444444,\"#bd3786\"],[0.5555555555555556,\"#d8576b\"],[0.6666666666666666,\"#ed7953\"],[0.7777777777777778,\"#fb9f3a\"],[0.8888888888888888,\"#fdca26\"],[1.0,\"#f0f921\"]]},\"colorway\":[\"#636efa\",\"#EF553B\",\"#00cc96\",\"#ab63fa\",\"#FFA15A\",\"#19d3f3\",\"#FF6692\",\"#B6E880\",\"#FF97FF\",\"#FECB52\"],\"font\":{\"color\":\"#2a3f5f\"},\"geo\":{\"bgcolor\":\"white\",\"lakecolor\":\"white\",\"landcolor\":\"#E5ECF6\",\"showlakes\":true,\"showland\":true,\"subunitcolor\":\"white\"},\"hoverlabel\":{\"align\":\"left\"},\"hovermode\":\"closest\",\"mapbox\":{\"style\":\"light\"},\"paper_bgcolor\":\"white\",\"plot_bgcolor\":\"#E5ECF6\",\"polar\":{\"angularaxis\":{\"gridcolor\":\"white\",\"linecolor\":\"white\",\"ticks\":\"\"},\"bgcolor\":\"#E5ECF6\",\"radialaxis\":{\"gridcolor\":\"white\",\"linecolor\":\"white\",\"ticks\":\"\"}},\"scene\":{\"xaxis\":{\"backgroundcolor\":\"#E5ECF6\",\"gridcolor\":\"white\",\"gridwidth\":2,\"linecolor\":\"white\",\"showbackground\":true,\"ticks\":\"\",\"zerolinecolor\":\"white\"},\"yaxis\":{\"backgroundcolor\":\"#E5ECF6\",\"gridcolor\":\"white\",\"gridwidth\":2,\"linecolor\":\"white\",\"showbackground\":true,\"ticks\":\"\",\"zerolinecolor\":\"white\"},\"zaxis\":{\"backgroundcolor\":\"#E5ECF6\",\"gridcolor\":\"white\",\"gridwidth\":2,\"linecolor\":\"white\",\"showbackground\":true,\"ticks\":\"\",\"zerolinecolor\":\"white\"}},\"shapedefaults\":{\"line\":{\"color\":\"#2a3f5f\"}},\"ternary\":{\"aaxis\":{\"gridcolor\":\"white\",\"linecolor\":\"white\",\"ticks\":\"\"},\"baxis\":{\"gridcolor\":\"white\",\"linecolor\":\"white\",\"ticks\":\"\"},\"bgcolor\":\"#E5ECF6\",\"caxis\":{\"gridcolor\":\"white\",\"linecolor\":\"white\",\"ticks\":\"\"}},\"title\":{\"x\":0.05},\"xaxis\":{\"automargin\":true,\"gridcolor\":\"white\",\"linecolor\":\"white\",\"ticks\":\"\",\"title\":{\"standoff\":15},\"zerolinecolor\":\"white\",\"zerolinewidth\":2},\"yaxis\":{\"automargin\":true,\"gridcolor\":\"white\",\"linecolor\":\"white\",\"ticks\":\"\",\"title\":{\"standoff\":15},\"zerolinecolor\":\"white\",\"zerolinewidth\":2}}}},                        {\"responsive\": true}                    ).then(function(){\n",
              "                            \n",
              "var gd = document.getElementById('7e264d45-2872-44e0-a145-d95f236f2c1a');\n",
              "var x = new MutationObserver(function (mutations, observer) {{\n",
              "        var display = window.getComputedStyle(gd).display;\n",
              "        if (!display || display === 'none') {{\n",
              "            console.log([gd, 'removed!']);\n",
              "            Plotly.purge(gd);\n",
              "            observer.disconnect();\n",
              "        }}\n",
              "}});\n",
              "\n",
              "// Listen for the removal of the full notebook cells\n",
              "var notebookContainer = gd.closest('#notebook-container');\n",
              "if (notebookContainer) {{\n",
              "    x.observe(notebookContainer, {childList: true});\n",
              "}}\n",
              "\n",
              "// Listen for the clearing of the current output cell\n",
              "var outputEl = gd.closest('.output');\n",
              "if (outputEl) {{\n",
              "    x.observe(outputEl, {childList: true});\n",
              "}}\n",
              "\n",
              "                        })                };                });            </script>        </div>"
            ]
          },
          "metadata": {}
        }
      ]
    },
    {
      "cell_type": "code",
      "source": [
        "import numpy as np\n",
        "from scipy import spatial\n",
        "import matplotlib.pyplot as plt\n",
        "from sklearn.manifold import TSNE"
      ],
      "metadata": {
        "id": "s_Mqim1aDaXe"
      },
      "execution_count": 26,
      "outputs": []
    },
    {
      "cell_type": "code",
      "source": [
        "#establish an empty dictionary\n",
        "embeddings_dict = {}\n",
        "\n",
        "#open the file and read it into the dictionary\n",
        "with open(\"/content/sample_data/glove.6B.100d.txt\", 'r', encoding=\"utf-8\") as f:\n",
        "    for line in f:\n",
        "        values = line.split()\n",
        "        word = values[0]\n",
        "        vector = np.asarray(values[1:], \"float32\")\n",
        "        embeddings_dict[word] = vector"
      ],
      "metadata": {
        "id": "l5lfimxPDqCu"
      },
      "execution_count": 27,
      "outputs": []
    },
    {
      "cell_type": "code",
      "source": [
        "#find the Euclidean distance between the vectors for words and 1 or more other words.\n",
        "#sort the resulting word distances.\n",
        "def find_closest_embeddings(embedding):\n",
        "    return sorted(embeddings_dict.keys(), key=lambda word:\n",
        "                  spatial.distance.euclidean(embeddings_dict[word], embedding))"
      ],
      "metadata": {
        "id": "MEX_TDJaDxcP"
      },
      "execution_count": 28,
      "outputs": []
    },
    {
      "cell_type": "code",
      "source": [
        "print(find_closest_embeddings(\n",
        "    embeddings_dict[\"dog\"]\n",
        ")[:20])"
      ],
      "metadata": {
        "colab": {
          "base_uri": "https://localhost:8080/",
          "height": 356
        },
        "id": "AHZuoVGyDxST",
        "outputId": "f1a2e9a9-645f-4623-8787-f77b2cf14d9a"
      },
      "execution_count": 36,
      "outputs": [
        {
          "output_type": "error",
          "ename": "ValueError",
          "evalue": "ignored",
          "traceback": [
            "\u001b[0;31m---------------------------------------------------------------------------\u001b[0m",
            "\u001b[0;31mValueError\u001b[0m                                Traceback (most recent call last)",
            "\u001b[0;32m<ipython-input-36-45d654a30f48>\u001b[0m in \u001b[0;36m<cell line: 1>\u001b[0;34m()\u001b[0m\n\u001b[0;32m----> 1\u001b[0;31m print(find_closest_embeddings(\n\u001b[0m\u001b[1;32m      2\u001b[0m     \u001b[0membeddings_dict\u001b[0m\u001b[0;34m[\u001b[0m\u001b[0;34m\"dog\"\u001b[0m\u001b[0;34m]\u001b[0m\u001b[0;34m\u001b[0m\u001b[0;34m\u001b[0m\u001b[0m\n\u001b[1;32m      3\u001b[0m )[:20])\n",
            "\u001b[0;32m<ipython-input-28-a6c6e3ea24d3>\u001b[0m in \u001b[0;36mfind_closest_embeddings\u001b[0;34m(embedding)\u001b[0m\n\u001b[1;32m      2\u001b[0m \u001b[0;31m#sort the resulting word distances.\u001b[0m\u001b[0;34m\u001b[0m\u001b[0;34m\u001b[0m\u001b[0m\n\u001b[1;32m      3\u001b[0m \u001b[0;32mdef\u001b[0m \u001b[0mfind_closest_embeddings\u001b[0m\u001b[0;34m(\u001b[0m\u001b[0membedding\u001b[0m\u001b[0;34m)\u001b[0m\u001b[0;34m:\u001b[0m\u001b[0;34m\u001b[0m\u001b[0;34m\u001b[0m\u001b[0m\n\u001b[0;32m----> 4\u001b[0;31m     return sorted(embeddings_dict.keys(), key=lambda word: \n\u001b[0m\u001b[1;32m      5\u001b[0m                   spatial.distance.euclidean(embeddings_dict[word], embedding))\n",
            "\u001b[0;32m<ipython-input-28-a6c6e3ea24d3>\u001b[0m in \u001b[0;36m<lambda>\u001b[0;34m(word)\u001b[0m\n\u001b[1;32m      3\u001b[0m \u001b[0;32mdef\u001b[0m \u001b[0mfind_closest_embeddings\u001b[0m\u001b[0;34m(\u001b[0m\u001b[0membedding\u001b[0m\u001b[0;34m)\u001b[0m\u001b[0;34m:\u001b[0m\u001b[0;34m\u001b[0m\u001b[0;34m\u001b[0m\u001b[0m\n\u001b[1;32m      4\u001b[0m     return sorted(embeddings_dict.keys(), key=lambda word: \n\u001b[0;32m----> 5\u001b[0;31m                   spatial.distance.euclidean(embeddings_dict[word], embedding))\n\u001b[0m",
            "\u001b[0;32m/usr/local/lib/python3.10/dist-packages/scipy/spatial/distance.py\u001b[0m in \u001b[0;36meuclidean\u001b[0;34m(u, v, w)\u001b[0m\n\u001b[1;32m    534\u001b[0m \u001b[0;34m\u001b[0m\u001b[0m\n\u001b[1;32m    535\u001b[0m     \"\"\"\n\u001b[0;32m--> 536\u001b[0;31m     \u001b[0;32mreturn\u001b[0m \u001b[0mminkowski\u001b[0m\u001b[0;34m(\u001b[0m\u001b[0mu\u001b[0m\u001b[0;34m,\u001b[0m \u001b[0mv\u001b[0m\u001b[0;34m,\u001b[0m \u001b[0mp\u001b[0m\u001b[0;34m=\u001b[0m\u001b[0;36m2\u001b[0m\u001b[0;34m,\u001b[0m \u001b[0mw\u001b[0m\u001b[0;34m=\u001b[0m\u001b[0mw\u001b[0m\u001b[0;34m)\u001b[0m\u001b[0;34m\u001b[0m\u001b[0;34m\u001b[0m\u001b[0m\n\u001b[0m\u001b[1;32m    537\u001b[0m \u001b[0;34m\u001b[0m\u001b[0m\n\u001b[1;32m    538\u001b[0m \u001b[0;34m\u001b[0m\u001b[0m\n",
            "\u001b[0;32m/usr/local/lib/python3.10/dist-packages/scipy/spatial/distance.py\u001b[0m in \u001b[0;36mminkowski\u001b[0;34m(u, v, p, w)\u001b[0m\n\u001b[1;32m    481\u001b[0m     \u001b[0;32mif\u001b[0m \u001b[0mp\u001b[0m \u001b[0;34m<=\u001b[0m \u001b[0;36m0\u001b[0m\u001b[0;34m:\u001b[0m\u001b[0;34m\u001b[0m\u001b[0;34m\u001b[0m\u001b[0m\n\u001b[1;32m    482\u001b[0m         \u001b[0;32mraise\u001b[0m \u001b[0mValueError\u001b[0m\u001b[0;34m(\u001b[0m\u001b[0;34m\"p must be greater than 0\"\u001b[0m\u001b[0;34m)\u001b[0m\u001b[0;34m\u001b[0m\u001b[0;34m\u001b[0m\u001b[0m\n\u001b[0;32m--> 483\u001b[0;31m     \u001b[0mu_v\u001b[0m \u001b[0;34m=\u001b[0m \u001b[0mu\u001b[0m \u001b[0;34m-\u001b[0m \u001b[0mv\u001b[0m\u001b[0;34m\u001b[0m\u001b[0;34m\u001b[0m\u001b[0m\n\u001b[0m\u001b[1;32m    484\u001b[0m     \u001b[0;32mif\u001b[0m \u001b[0mw\u001b[0m \u001b[0;32mis\u001b[0m \u001b[0;32mnot\u001b[0m \u001b[0;32mNone\u001b[0m\u001b[0;34m:\u001b[0m\u001b[0;34m\u001b[0m\u001b[0;34m\u001b[0m\u001b[0m\n\u001b[1;32m    485\u001b[0m         \u001b[0mw\u001b[0m \u001b[0;34m=\u001b[0m \u001b[0m_validate_weights\u001b[0m\u001b[0;34m(\u001b[0m\u001b[0mw\u001b[0m\u001b[0;34m)\u001b[0m\u001b[0;34m\u001b[0m\u001b[0;34m\u001b[0m\u001b[0m\n",
            "\u001b[0;31mValueError\u001b[0m: operands could not be broadcast together with shapes (86,) (100,) "
          ]
        }
      ]
    },
    {
      "cell_type": "code",
      "source": [
        "print(find_closest_embeddings(\n",
        "    embeddings_dict[\"cat\"]\n",
        ")[:20])"
      ],
      "metadata": {
        "colab": {
          "base_uri": "https://localhost:8080/",
          "height": 356
        },
        "id": "z2oMLBdWEsIe",
        "outputId": "84b20663-ad4f-4ae4-8bbb-c853a26911a8"
      },
      "execution_count": 30,
      "outputs": [
        {
          "output_type": "error",
          "ename": "ValueError",
          "evalue": "ignored",
          "traceback": [
            "\u001b[0;31m---------------------------------------------------------------------------\u001b[0m",
            "\u001b[0;31mValueError\u001b[0m                                Traceback (most recent call last)",
            "\u001b[0;32m<ipython-input-30-053812caf3ad>\u001b[0m in \u001b[0;36m<cell line: 1>\u001b[0;34m()\u001b[0m\n\u001b[0;32m----> 1\u001b[0;31m print(find_closest_embeddings(\n\u001b[0m\u001b[1;32m      2\u001b[0m     \u001b[0membeddings_dict\u001b[0m\u001b[0;34m[\u001b[0m\u001b[0;34m\"cat\"\u001b[0m\u001b[0;34m]\u001b[0m\u001b[0;34m\u001b[0m\u001b[0;34m\u001b[0m\u001b[0m\n\u001b[1;32m      3\u001b[0m )[:20])\n",
            "\u001b[0;32m<ipython-input-28-a6c6e3ea24d3>\u001b[0m in \u001b[0;36mfind_closest_embeddings\u001b[0;34m(embedding)\u001b[0m\n\u001b[1;32m      2\u001b[0m \u001b[0;31m#sort the resulting word distances.\u001b[0m\u001b[0;34m\u001b[0m\u001b[0;34m\u001b[0m\u001b[0m\n\u001b[1;32m      3\u001b[0m \u001b[0;32mdef\u001b[0m \u001b[0mfind_closest_embeddings\u001b[0m\u001b[0;34m(\u001b[0m\u001b[0membedding\u001b[0m\u001b[0;34m)\u001b[0m\u001b[0;34m:\u001b[0m\u001b[0;34m\u001b[0m\u001b[0;34m\u001b[0m\u001b[0m\n\u001b[0;32m----> 4\u001b[0;31m     return sorted(embeddings_dict.keys(), key=lambda word: \n\u001b[0m\u001b[1;32m      5\u001b[0m                   spatial.distance.euclidean(embeddings_dict[word], embedding))\n",
            "\u001b[0;32m<ipython-input-28-a6c6e3ea24d3>\u001b[0m in \u001b[0;36m<lambda>\u001b[0;34m(word)\u001b[0m\n\u001b[1;32m      3\u001b[0m \u001b[0;32mdef\u001b[0m \u001b[0mfind_closest_embeddings\u001b[0m\u001b[0;34m(\u001b[0m\u001b[0membedding\u001b[0m\u001b[0;34m)\u001b[0m\u001b[0;34m:\u001b[0m\u001b[0;34m\u001b[0m\u001b[0;34m\u001b[0m\u001b[0m\n\u001b[1;32m      4\u001b[0m     return sorted(embeddings_dict.keys(), key=lambda word: \n\u001b[0;32m----> 5\u001b[0;31m                   spatial.distance.euclidean(embeddings_dict[word], embedding))\n\u001b[0m",
            "\u001b[0;32m/usr/local/lib/python3.10/dist-packages/scipy/spatial/distance.py\u001b[0m in \u001b[0;36meuclidean\u001b[0;34m(u, v, w)\u001b[0m\n\u001b[1;32m    534\u001b[0m \u001b[0;34m\u001b[0m\u001b[0m\n\u001b[1;32m    535\u001b[0m     \"\"\"\n\u001b[0;32m--> 536\u001b[0;31m     \u001b[0;32mreturn\u001b[0m \u001b[0mminkowski\u001b[0m\u001b[0;34m(\u001b[0m\u001b[0mu\u001b[0m\u001b[0;34m,\u001b[0m \u001b[0mv\u001b[0m\u001b[0;34m,\u001b[0m \u001b[0mp\u001b[0m\u001b[0;34m=\u001b[0m\u001b[0;36m2\u001b[0m\u001b[0;34m,\u001b[0m \u001b[0mw\u001b[0m\u001b[0;34m=\u001b[0m\u001b[0mw\u001b[0m\u001b[0;34m)\u001b[0m\u001b[0;34m\u001b[0m\u001b[0;34m\u001b[0m\u001b[0m\n\u001b[0m\u001b[1;32m    537\u001b[0m \u001b[0;34m\u001b[0m\u001b[0m\n\u001b[1;32m    538\u001b[0m \u001b[0;34m\u001b[0m\u001b[0m\n",
            "\u001b[0;32m/usr/local/lib/python3.10/dist-packages/scipy/spatial/distance.py\u001b[0m in \u001b[0;36mminkowski\u001b[0;34m(u, v, p, w)\u001b[0m\n\u001b[1;32m    481\u001b[0m     \u001b[0;32mif\u001b[0m \u001b[0mp\u001b[0m \u001b[0;34m<=\u001b[0m \u001b[0;36m0\u001b[0m\u001b[0;34m:\u001b[0m\u001b[0;34m\u001b[0m\u001b[0;34m\u001b[0m\u001b[0m\n\u001b[1;32m    482\u001b[0m         \u001b[0;32mraise\u001b[0m \u001b[0mValueError\u001b[0m\u001b[0;34m(\u001b[0m\u001b[0;34m\"p must be greater than 0\"\u001b[0m\u001b[0;34m)\u001b[0m\u001b[0;34m\u001b[0m\u001b[0;34m\u001b[0m\u001b[0m\n\u001b[0;32m--> 483\u001b[0;31m     \u001b[0mu_v\u001b[0m \u001b[0;34m=\u001b[0m \u001b[0mu\u001b[0m \u001b[0;34m-\u001b[0m \u001b[0mv\u001b[0m\u001b[0;34m\u001b[0m\u001b[0;34m\u001b[0m\u001b[0m\n\u001b[0m\u001b[1;32m    484\u001b[0m     \u001b[0;32mif\u001b[0m \u001b[0mw\u001b[0m \u001b[0;32mis\u001b[0m \u001b[0;32mnot\u001b[0m \u001b[0;32mNone\u001b[0m\u001b[0;34m:\u001b[0m\u001b[0;34m\u001b[0m\u001b[0;34m\u001b[0m\u001b[0m\n\u001b[1;32m    485\u001b[0m         \u001b[0mw\u001b[0m \u001b[0;34m=\u001b[0m \u001b[0m_validate_weights\u001b[0m\u001b[0;34m(\u001b[0m\u001b[0mw\u001b[0m\u001b[0;34m)\u001b[0m\u001b[0;34m\u001b[0m\u001b[0;34m\u001b[0m\u001b[0m\n",
            "\u001b[0;31mValueError\u001b[0m: operands could not be broadcast together with shapes (86,) (100,) "
          ]
        }
      ]
    },
    {
      "cell_type": "code",
      "source": [
        "print(find_closest_embeddings(\n",
        "    embeddings_dict[\"dog\"] + embeddings_dict[\"cat\"]\n",
        ")[:20])"
      ],
      "metadata": {
        "colab": {
          "base_uri": "https://localhost:8080/",
          "height": 356
        },
        "id": "l-FYYG5aE2Fo",
        "outputId": "ee65c4a1-94bf-4229-aed9-cebfdf0af26b"
      },
      "execution_count": 31,
      "outputs": [
        {
          "output_type": "error",
          "ename": "ValueError",
          "evalue": "ignored",
          "traceback": [
            "\u001b[0;31m---------------------------------------------------------------------------\u001b[0m",
            "\u001b[0;31mValueError\u001b[0m                                Traceback (most recent call last)",
            "\u001b[0;32m<ipython-input-31-79b750defe98>\u001b[0m in \u001b[0;36m<cell line: 1>\u001b[0;34m()\u001b[0m\n\u001b[0;32m----> 1\u001b[0;31m print(find_closest_embeddings(\n\u001b[0m\u001b[1;32m      2\u001b[0m     \u001b[0membeddings_dict\u001b[0m\u001b[0;34m[\u001b[0m\u001b[0;34m\"dog\"\u001b[0m\u001b[0;34m]\u001b[0m \u001b[0;34m+\u001b[0m \u001b[0membeddings_dict\u001b[0m\u001b[0;34m[\u001b[0m\u001b[0;34m\"cat\"\u001b[0m\u001b[0;34m]\u001b[0m\u001b[0;34m\u001b[0m\u001b[0;34m\u001b[0m\u001b[0m\n\u001b[1;32m      3\u001b[0m )[:20])\n",
            "\u001b[0;32m<ipython-input-28-a6c6e3ea24d3>\u001b[0m in \u001b[0;36mfind_closest_embeddings\u001b[0;34m(embedding)\u001b[0m\n\u001b[1;32m      2\u001b[0m \u001b[0;31m#sort the resulting word distances.\u001b[0m\u001b[0;34m\u001b[0m\u001b[0;34m\u001b[0m\u001b[0m\n\u001b[1;32m      3\u001b[0m \u001b[0;32mdef\u001b[0m \u001b[0mfind_closest_embeddings\u001b[0m\u001b[0;34m(\u001b[0m\u001b[0membedding\u001b[0m\u001b[0;34m)\u001b[0m\u001b[0;34m:\u001b[0m\u001b[0;34m\u001b[0m\u001b[0;34m\u001b[0m\u001b[0m\n\u001b[0;32m----> 4\u001b[0;31m     return sorted(embeddings_dict.keys(), key=lambda word: \n\u001b[0m\u001b[1;32m      5\u001b[0m                   spatial.distance.euclidean(embeddings_dict[word], embedding))\n",
            "\u001b[0;32m<ipython-input-28-a6c6e3ea24d3>\u001b[0m in \u001b[0;36m<lambda>\u001b[0;34m(word)\u001b[0m\n\u001b[1;32m      3\u001b[0m \u001b[0;32mdef\u001b[0m \u001b[0mfind_closest_embeddings\u001b[0m\u001b[0;34m(\u001b[0m\u001b[0membedding\u001b[0m\u001b[0;34m)\u001b[0m\u001b[0;34m:\u001b[0m\u001b[0;34m\u001b[0m\u001b[0;34m\u001b[0m\u001b[0m\n\u001b[1;32m      4\u001b[0m     return sorted(embeddings_dict.keys(), key=lambda word: \n\u001b[0;32m----> 5\u001b[0;31m                   spatial.distance.euclidean(embeddings_dict[word], embedding))\n\u001b[0m",
            "\u001b[0;32m/usr/local/lib/python3.10/dist-packages/scipy/spatial/distance.py\u001b[0m in \u001b[0;36meuclidean\u001b[0;34m(u, v, w)\u001b[0m\n\u001b[1;32m    534\u001b[0m \u001b[0;34m\u001b[0m\u001b[0m\n\u001b[1;32m    535\u001b[0m     \"\"\"\n\u001b[0;32m--> 536\u001b[0;31m     \u001b[0;32mreturn\u001b[0m \u001b[0mminkowski\u001b[0m\u001b[0;34m(\u001b[0m\u001b[0mu\u001b[0m\u001b[0;34m,\u001b[0m \u001b[0mv\u001b[0m\u001b[0;34m,\u001b[0m \u001b[0mp\u001b[0m\u001b[0;34m=\u001b[0m\u001b[0;36m2\u001b[0m\u001b[0;34m,\u001b[0m \u001b[0mw\u001b[0m\u001b[0;34m=\u001b[0m\u001b[0mw\u001b[0m\u001b[0;34m)\u001b[0m\u001b[0;34m\u001b[0m\u001b[0;34m\u001b[0m\u001b[0m\n\u001b[0m\u001b[1;32m    537\u001b[0m \u001b[0;34m\u001b[0m\u001b[0m\n\u001b[1;32m    538\u001b[0m \u001b[0;34m\u001b[0m\u001b[0m\n",
            "\u001b[0;32m/usr/local/lib/python3.10/dist-packages/scipy/spatial/distance.py\u001b[0m in \u001b[0;36mminkowski\u001b[0;34m(u, v, p, w)\u001b[0m\n\u001b[1;32m    481\u001b[0m     \u001b[0;32mif\u001b[0m \u001b[0mp\u001b[0m \u001b[0;34m<=\u001b[0m \u001b[0;36m0\u001b[0m\u001b[0;34m:\u001b[0m\u001b[0;34m\u001b[0m\u001b[0;34m\u001b[0m\u001b[0m\n\u001b[1;32m    482\u001b[0m         \u001b[0;32mraise\u001b[0m \u001b[0mValueError\u001b[0m\u001b[0;34m(\u001b[0m\u001b[0;34m\"p must be greater than 0\"\u001b[0m\u001b[0;34m)\u001b[0m\u001b[0;34m\u001b[0m\u001b[0;34m\u001b[0m\u001b[0m\n\u001b[0;32m--> 483\u001b[0;31m     \u001b[0mu_v\u001b[0m \u001b[0;34m=\u001b[0m \u001b[0mu\u001b[0m \u001b[0;34m-\u001b[0m \u001b[0mv\u001b[0m\u001b[0;34m\u001b[0m\u001b[0;34m\u001b[0m\u001b[0m\n\u001b[0m\u001b[1;32m    484\u001b[0m     \u001b[0;32mif\u001b[0m \u001b[0mw\u001b[0m \u001b[0;32mis\u001b[0m \u001b[0;32mnot\u001b[0m \u001b[0;32mNone\u001b[0m\u001b[0;34m:\u001b[0m\u001b[0;34m\u001b[0m\u001b[0;34m\u001b[0m\u001b[0m\n\u001b[1;32m    485\u001b[0m         \u001b[0mw\u001b[0m \u001b[0;34m=\u001b[0m \u001b[0m_validate_weights\u001b[0m\u001b[0;34m(\u001b[0m\u001b[0mw\u001b[0m\u001b[0;34m)\u001b[0m\u001b[0;34m\u001b[0m\u001b[0;34m\u001b[0m\u001b[0m\n",
            "\u001b[0;31mValueError\u001b[0m: operands could not be broadcast together with shapes (86,) (100,) "
          ]
        }
      ]
    },
    {
      "cell_type": "code",
      "source": [
        "print(find_closest_embeddings(\n",
        "    embeddings_dict[\"dog\"] + embeddings_dict[\"cat\"] + embeddings_dict[\"pet\"]\n",
        ")[:20])"
      ],
      "metadata": {
        "colab": {
          "base_uri": "https://localhost:8080/",
          "height": 356
        },
        "id": "1O1_QVKaFCL-",
        "outputId": "ea2c0851-cf42-47d2-9197-1f0835f75b53"
      },
      "execution_count": 32,
      "outputs": [
        {
          "output_type": "error",
          "ename": "ValueError",
          "evalue": "ignored",
          "traceback": [
            "\u001b[0;31m---------------------------------------------------------------------------\u001b[0m",
            "\u001b[0;31mValueError\u001b[0m                                Traceback (most recent call last)",
            "\u001b[0;32m<ipython-input-32-17fceb36a97e>\u001b[0m in \u001b[0;36m<cell line: 1>\u001b[0;34m()\u001b[0m\n\u001b[0;32m----> 1\u001b[0;31m print(find_closest_embeddings(\n\u001b[0m\u001b[1;32m      2\u001b[0m     \u001b[0membeddings_dict\u001b[0m\u001b[0;34m[\u001b[0m\u001b[0;34m\"dog\"\u001b[0m\u001b[0;34m]\u001b[0m \u001b[0;34m+\u001b[0m \u001b[0membeddings_dict\u001b[0m\u001b[0;34m[\u001b[0m\u001b[0;34m\"cat\"\u001b[0m\u001b[0;34m]\u001b[0m \u001b[0;34m+\u001b[0m \u001b[0membeddings_dict\u001b[0m\u001b[0;34m[\u001b[0m\u001b[0;34m\"pet\"\u001b[0m\u001b[0;34m]\u001b[0m\u001b[0;34m\u001b[0m\u001b[0;34m\u001b[0m\u001b[0m\n\u001b[1;32m      3\u001b[0m )[:20])\n",
            "\u001b[0;32m<ipython-input-28-a6c6e3ea24d3>\u001b[0m in \u001b[0;36mfind_closest_embeddings\u001b[0;34m(embedding)\u001b[0m\n\u001b[1;32m      2\u001b[0m \u001b[0;31m#sort the resulting word distances.\u001b[0m\u001b[0;34m\u001b[0m\u001b[0;34m\u001b[0m\u001b[0m\n\u001b[1;32m      3\u001b[0m \u001b[0;32mdef\u001b[0m \u001b[0mfind_closest_embeddings\u001b[0m\u001b[0;34m(\u001b[0m\u001b[0membedding\u001b[0m\u001b[0;34m)\u001b[0m\u001b[0;34m:\u001b[0m\u001b[0;34m\u001b[0m\u001b[0;34m\u001b[0m\u001b[0m\n\u001b[0;32m----> 4\u001b[0;31m     return sorted(embeddings_dict.keys(), key=lambda word: \n\u001b[0m\u001b[1;32m      5\u001b[0m                   spatial.distance.euclidean(embeddings_dict[word], embedding))\n",
            "\u001b[0;32m<ipython-input-28-a6c6e3ea24d3>\u001b[0m in \u001b[0;36m<lambda>\u001b[0;34m(word)\u001b[0m\n\u001b[1;32m      3\u001b[0m \u001b[0;32mdef\u001b[0m \u001b[0mfind_closest_embeddings\u001b[0m\u001b[0;34m(\u001b[0m\u001b[0membedding\u001b[0m\u001b[0;34m)\u001b[0m\u001b[0;34m:\u001b[0m\u001b[0;34m\u001b[0m\u001b[0;34m\u001b[0m\u001b[0m\n\u001b[1;32m      4\u001b[0m     return sorted(embeddings_dict.keys(), key=lambda word: \n\u001b[0;32m----> 5\u001b[0;31m                   spatial.distance.euclidean(embeddings_dict[word], embedding))\n\u001b[0m",
            "\u001b[0;32m/usr/local/lib/python3.10/dist-packages/scipy/spatial/distance.py\u001b[0m in \u001b[0;36meuclidean\u001b[0;34m(u, v, w)\u001b[0m\n\u001b[1;32m    534\u001b[0m \u001b[0;34m\u001b[0m\u001b[0m\n\u001b[1;32m    535\u001b[0m     \"\"\"\n\u001b[0;32m--> 536\u001b[0;31m     \u001b[0;32mreturn\u001b[0m \u001b[0mminkowski\u001b[0m\u001b[0;34m(\u001b[0m\u001b[0mu\u001b[0m\u001b[0;34m,\u001b[0m \u001b[0mv\u001b[0m\u001b[0;34m,\u001b[0m \u001b[0mp\u001b[0m\u001b[0;34m=\u001b[0m\u001b[0;36m2\u001b[0m\u001b[0;34m,\u001b[0m \u001b[0mw\u001b[0m\u001b[0;34m=\u001b[0m\u001b[0mw\u001b[0m\u001b[0;34m)\u001b[0m\u001b[0;34m\u001b[0m\u001b[0;34m\u001b[0m\u001b[0m\n\u001b[0m\u001b[1;32m    537\u001b[0m \u001b[0;34m\u001b[0m\u001b[0m\n\u001b[1;32m    538\u001b[0m \u001b[0;34m\u001b[0m\u001b[0m\n",
            "\u001b[0;32m/usr/local/lib/python3.10/dist-packages/scipy/spatial/distance.py\u001b[0m in \u001b[0;36mminkowski\u001b[0;34m(u, v, p, w)\u001b[0m\n\u001b[1;32m    481\u001b[0m     \u001b[0;32mif\u001b[0m \u001b[0mp\u001b[0m \u001b[0;34m<=\u001b[0m \u001b[0;36m0\u001b[0m\u001b[0;34m:\u001b[0m\u001b[0;34m\u001b[0m\u001b[0;34m\u001b[0m\u001b[0m\n\u001b[1;32m    482\u001b[0m         \u001b[0;32mraise\u001b[0m \u001b[0mValueError\u001b[0m\u001b[0;34m(\u001b[0m\u001b[0;34m\"p must be greater than 0\"\u001b[0m\u001b[0;34m)\u001b[0m\u001b[0;34m\u001b[0m\u001b[0;34m\u001b[0m\u001b[0m\n\u001b[0;32m--> 483\u001b[0;31m     \u001b[0mu_v\u001b[0m \u001b[0;34m=\u001b[0m \u001b[0mu\u001b[0m \u001b[0;34m-\u001b[0m \u001b[0mv\u001b[0m\u001b[0;34m\u001b[0m\u001b[0;34m\u001b[0m\u001b[0m\n\u001b[0m\u001b[1;32m    484\u001b[0m     \u001b[0;32mif\u001b[0m \u001b[0mw\u001b[0m \u001b[0;32mis\u001b[0m \u001b[0;32mnot\u001b[0m \u001b[0;32mNone\u001b[0m\u001b[0;34m:\u001b[0m\u001b[0;34m\u001b[0m\u001b[0;34m\u001b[0m\u001b[0m\n\u001b[1;32m    485\u001b[0m         \u001b[0mw\u001b[0m \u001b[0;34m=\u001b[0m \u001b[0m_validate_weights\u001b[0m\u001b[0;34m(\u001b[0m\u001b[0mw\u001b[0m\u001b[0;34m)\u001b[0m\u001b[0;34m\u001b[0m\u001b[0;34m\u001b[0m\u001b[0m\n",
            "\u001b[0;31mValueError\u001b[0m: operands could not be broadcast together with shapes (86,) (100,) "
          ]
        }
      ]
    },
    {
      "cell_type": "code",
      "source": [
        "words =  list(embeddings_dict.keys())\n",
        "vectors = [embeddings_dict[word] for word in words]\n",
        "X = np.asarray(vectors)"
      ],
      "metadata": {
        "colab": {
          "base_uri": "https://localhost:8080/"
        },
        "id": "wqtZuuMrFGMC",
        "outputId": "67ff5689-fd25-4051-a68e-99cf42e48acf"
      },
      "execution_count": 33,
      "outputs": [
        {
          "output_type": "stream",
          "name": "stderr",
          "text": [
            "<ipython-input-33-ea82be3676be>:3: VisibleDeprecationWarning:\n",
            "\n",
            "Creating an ndarray from ragged nested sequences (which is a list-or-tuple of lists-or-tuples-or ndarrays with different lengths or shapes) is deprecated. If you meant to do this, you must specify 'dtype=object' when creating the ndarray.\n",
            "\n"
          ]
        }
      ]
    },
    {
      "cell_type": "code",
      "source": [
        "tsne = TSNE(n_components=2, random_state=0)\n",
        "Y = tsne.fit_transform(X[:1000])"
      ],
      "metadata": {
        "colab": {
          "base_uri": "https://localhost:8080/",
          "height": 443
        },
        "id": "92tt7dAOFKvY",
        "outputId": "ed509168-f3e8-4730-d645-9a6524b0eafa"
      },
      "execution_count": 34,
      "outputs": [
        {
          "output_type": "error",
          "ename": "ValueError",
          "evalue": "ignored",
          "traceback": [
            "\u001b[0;31m---------------------------------------------------------------------------\u001b[0m",
            "\u001b[0;31mTypeError\u001b[0m                                 Traceback (most recent call last)",
            "\u001b[0;31mTypeError\u001b[0m: only size-1 arrays can be converted to Python scalars",
            "\nThe above exception was the direct cause of the following exception:\n",
            "\u001b[0;31mValueError\u001b[0m                                Traceback (most recent call last)",
            "\u001b[0;32m<ipython-input-34-2865a1e9ea1c>\u001b[0m in \u001b[0;36m<cell line: 2>\u001b[0;34m()\u001b[0m\n\u001b[1;32m      1\u001b[0m \u001b[0mtsne\u001b[0m \u001b[0;34m=\u001b[0m \u001b[0mTSNE\u001b[0m\u001b[0;34m(\u001b[0m\u001b[0mn_components\u001b[0m\u001b[0;34m=\u001b[0m\u001b[0;36m2\u001b[0m\u001b[0;34m,\u001b[0m \u001b[0mrandom_state\u001b[0m\u001b[0;34m=\u001b[0m\u001b[0;36m0\u001b[0m\u001b[0;34m)\u001b[0m\u001b[0;34m\u001b[0m\u001b[0;34m\u001b[0m\u001b[0m\n\u001b[0;32m----> 2\u001b[0;31m \u001b[0mY\u001b[0m \u001b[0;34m=\u001b[0m \u001b[0mtsne\u001b[0m\u001b[0;34m.\u001b[0m\u001b[0mfit_transform\u001b[0m\u001b[0;34m(\u001b[0m\u001b[0mX\u001b[0m\u001b[0;34m[\u001b[0m\u001b[0;34m:\u001b[0m\u001b[0;36m1000\u001b[0m\u001b[0;34m]\u001b[0m\u001b[0;34m)\u001b[0m\u001b[0;34m\u001b[0m\u001b[0;34m\u001b[0m\u001b[0m\n\u001b[0m",
            "\u001b[0;32m/usr/local/lib/python3.10/dist-packages/sklearn/manifold/_t_sne.py\u001b[0m in \u001b[0;36mfit_transform\u001b[0;34m(self, X, y)\u001b[0m\n\u001b[1;32m   1117\u001b[0m         \u001b[0mself\u001b[0m\u001b[0;34m.\u001b[0m\u001b[0m_validate_params\u001b[0m\u001b[0;34m(\u001b[0m\u001b[0;34m)\u001b[0m\u001b[0;34m\u001b[0m\u001b[0;34m\u001b[0m\u001b[0m\n\u001b[1;32m   1118\u001b[0m         \u001b[0mself\u001b[0m\u001b[0;34m.\u001b[0m\u001b[0m_check_params_vs_input\u001b[0m\u001b[0;34m(\u001b[0m\u001b[0mX\u001b[0m\u001b[0;34m)\u001b[0m\u001b[0;34m\u001b[0m\u001b[0;34m\u001b[0m\u001b[0m\n\u001b[0;32m-> 1119\u001b[0;31m         \u001b[0membedding\u001b[0m \u001b[0;34m=\u001b[0m \u001b[0mself\u001b[0m\u001b[0;34m.\u001b[0m\u001b[0m_fit\u001b[0m\u001b[0;34m(\u001b[0m\u001b[0mX\u001b[0m\u001b[0;34m)\u001b[0m\u001b[0;34m\u001b[0m\u001b[0;34m\u001b[0m\u001b[0m\n\u001b[0m\u001b[1;32m   1120\u001b[0m         \u001b[0mself\u001b[0m\u001b[0;34m.\u001b[0m\u001b[0membedding_\u001b[0m \u001b[0;34m=\u001b[0m \u001b[0membedding\u001b[0m\u001b[0;34m\u001b[0m\u001b[0;34m\u001b[0m\u001b[0m\n\u001b[1;32m   1121\u001b[0m         \u001b[0;32mreturn\u001b[0m \u001b[0mself\u001b[0m\u001b[0;34m.\u001b[0m\u001b[0membedding_\u001b[0m\u001b[0;34m\u001b[0m\u001b[0;34m\u001b[0m\u001b[0m\n",
            "\u001b[0;32m/usr/local/lib/python3.10/dist-packages/sklearn/manifold/_t_sne.py\u001b[0m in \u001b[0;36m_fit\u001b[0;34m(self, X, skip_num_points)\u001b[0m\n\u001b[1;32m    852\u001b[0m \u001b[0;34m\u001b[0m\u001b[0m\n\u001b[1;32m    853\u001b[0m         \u001b[0;32mif\u001b[0m \u001b[0mself\u001b[0m\u001b[0;34m.\u001b[0m\u001b[0mmethod\u001b[0m \u001b[0;34m==\u001b[0m \u001b[0;34m\"barnes_hut\"\u001b[0m\u001b[0;34m:\u001b[0m\u001b[0;34m\u001b[0m\u001b[0;34m\u001b[0m\u001b[0m\n\u001b[0;32m--> 854\u001b[0;31m             X = self._validate_data(\n\u001b[0m\u001b[1;32m    855\u001b[0m                 \u001b[0mX\u001b[0m\u001b[0;34m,\u001b[0m\u001b[0;34m\u001b[0m\u001b[0;34m\u001b[0m\u001b[0m\n\u001b[1;32m    856\u001b[0m                 \u001b[0maccept_sparse\u001b[0m\u001b[0;34m=\u001b[0m\u001b[0;34m[\u001b[0m\u001b[0;34m\"csr\"\u001b[0m\u001b[0;34m]\u001b[0m\u001b[0;34m,\u001b[0m\u001b[0;34m\u001b[0m\u001b[0;34m\u001b[0m\u001b[0m\n",
            "\u001b[0;32m/usr/local/lib/python3.10/dist-packages/sklearn/base.py\u001b[0m in \u001b[0;36m_validate_data\u001b[0;34m(self, X, y, reset, validate_separately, **check_params)\u001b[0m\n\u001b[1;32m    563\u001b[0m             \u001b[0;32mraise\u001b[0m \u001b[0mValueError\u001b[0m\u001b[0;34m(\u001b[0m\u001b[0;34m\"Validation should be done on X, y or both.\"\u001b[0m\u001b[0;34m)\u001b[0m\u001b[0;34m\u001b[0m\u001b[0;34m\u001b[0m\u001b[0m\n\u001b[1;32m    564\u001b[0m         \u001b[0;32melif\u001b[0m \u001b[0;32mnot\u001b[0m \u001b[0mno_val_X\u001b[0m \u001b[0;32mand\u001b[0m \u001b[0mno_val_y\u001b[0m\u001b[0;34m:\u001b[0m\u001b[0;34m\u001b[0m\u001b[0;34m\u001b[0m\u001b[0m\n\u001b[0;32m--> 565\u001b[0;31m             \u001b[0mX\u001b[0m \u001b[0;34m=\u001b[0m \u001b[0mcheck_array\u001b[0m\u001b[0;34m(\u001b[0m\u001b[0mX\u001b[0m\u001b[0;34m,\u001b[0m \u001b[0minput_name\u001b[0m\u001b[0;34m=\u001b[0m\u001b[0;34m\"X\"\u001b[0m\u001b[0;34m,\u001b[0m \u001b[0;34m**\u001b[0m\u001b[0mcheck_params\u001b[0m\u001b[0;34m)\u001b[0m\u001b[0;34m\u001b[0m\u001b[0;34m\u001b[0m\u001b[0m\n\u001b[0m\u001b[1;32m    566\u001b[0m             \u001b[0mout\u001b[0m \u001b[0;34m=\u001b[0m \u001b[0mX\u001b[0m\u001b[0;34m\u001b[0m\u001b[0;34m\u001b[0m\u001b[0m\n\u001b[1;32m    567\u001b[0m         \u001b[0;32melif\u001b[0m \u001b[0mno_val_X\u001b[0m \u001b[0;32mand\u001b[0m \u001b[0;32mnot\u001b[0m \u001b[0mno_val_y\u001b[0m\u001b[0;34m:\u001b[0m\u001b[0;34m\u001b[0m\u001b[0;34m\u001b[0m\u001b[0m\n",
            "\u001b[0;32m/usr/local/lib/python3.10/dist-packages/sklearn/utils/validation.py\u001b[0m in \u001b[0;36mcheck_array\u001b[0;34m(array, accept_sparse, accept_large_sparse, dtype, order, copy, force_all_finite, ensure_2d, allow_nd, ensure_min_samples, ensure_min_features, estimator, input_name)\u001b[0m\n\u001b[1;32m    877\u001b[0m                     \u001b[0marray\u001b[0m \u001b[0;34m=\u001b[0m \u001b[0mxp\u001b[0m\u001b[0;34m.\u001b[0m\u001b[0mastype\u001b[0m\u001b[0;34m(\u001b[0m\u001b[0marray\u001b[0m\u001b[0;34m,\u001b[0m \u001b[0mdtype\u001b[0m\u001b[0;34m,\u001b[0m \u001b[0mcopy\u001b[0m\u001b[0;34m=\u001b[0m\u001b[0;32mFalse\u001b[0m\u001b[0;34m)\u001b[0m\u001b[0;34m\u001b[0m\u001b[0;34m\u001b[0m\u001b[0m\n\u001b[1;32m    878\u001b[0m                 \u001b[0;32melse\u001b[0m\u001b[0;34m:\u001b[0m\u001b[0;34m\u001b[0m\u001b[0;34m\u001b[0m\u001b[0m\n\u001b[0;32m--> 879\u001b[0;31m                     \u001b[0marray\u001b[0m \u001b[0;34m=\u001b[0m \u001b[0m_asarray_with_order\u001b[0m\u001b[0;34m(\u001b[0m\u001b[0marray\u001b[0m\u001b[0;34m,\u001b[0m \u001b[0morder\u001b[0m\u001b[0;34m=\u001b[0m\u001b[0morder\u001b[0m\u001b[0;34m,\u001b[0m \u001b[0mdtype\u001b[0m\u001b[0;34m=\u001b[0m\u001b[0mdtype\u001b[0m\u001b[0;34m,\u001b[0m \u001b[0mxp\u001b[0m\u001b[0;34m=\u001b[0m\u001b[0mxp\u001b[0m\u001b[0;34m)\u001b[0m\u001b[0;34m\u001b[0m\u001b[0;34m\u001b[0m\u001b[0m\n\u001b[0m\u001b[1;32m    880\u001b[0m             \u001b[0;32mexcept\u001b[0m \u001b[0mComplexWarning\u001b[0m \u001b[0;32mas\u001b[0m \u001b[0mcomplex_warning\u001b[0m\u001b[0;34m:\u001b[0m\u001b[0;34m\u001b[0m\u001b[0;34m\u001b[0m\u001b[0m\n\u001b[1;32m    881\u001b[0m                 raise ValueError(\n",
            "\u001b[0;32m/usr/local/lib/python3.10/dist-packages/sklearn/utils/_array_api.py\u001b[0m in \u001b[0;36m_asarray_with_order\u001b[0;34m(array, dtype, order, copy, xp)\u001b[0m\n\u001b[1;32m    183\u001b[0m     \u001b[0;32mif\u001b[0m \u001b[0mxp\u001b[0m\u001b[0;34m.\u001b[0m\u001b[0m__name__\u001b[0m \u001b[0;32min\u001b[0m \u001b[0;34m{\u001b[0m\u001b[0;34m\"numpy\"\u001b[0m\u001b[0;34m,\u001b[0m \u001b[0;34m\"numpy.array_api\"\u001b[0m\u001b[0;34m}\u001b[0m\u001b[0;34m:\u001b[0m\u001b[0;34m\u001b[0m\u001b[0;34m\u001b[0m\u001b[0m\n\u001b[1;32m    184\u001b[0m         \u001b[0;31m# Use NumPy API to support order\u001b[0m\u001b[0;34m\u001b[0m\u001b[0;34m\u001b[0m\u001b[0m\n\u001b[0;32m--> 185\u001b[0;31m         \u001b[0marray\u001b[0m \u001b[0;34m=\u001b[0m \u001b[0mnumpy\u001b[0m\u001b[0;34m.\u001b[0m\u001b[0masarray\u001b[0m\u001b[0;34m(\u001b[0m\u001b[0marray\u001b[0m\u001b[0;34m,\u001b[0m \u001b[0morder\u001b[0m\u001b[0;34m=\u001b[0m\u001b[0morder\u001b[0m\u001b[0;34m,\u001b[0m \u001b[0mdtype\u001b[0m\u001b[0;34m=\u001b[0m\u001b[0mdtype\u001b[0m\u001b[0;34m)\u001b[0m\u001b[0;34m\u001b[0m\u001b[0;34m\u001b[0m\u001b[0m\n\u001b[0m\u001b[1;32m    186\u001b[0m         \u001b[0;32mreturn\u001b[0m \u001b[0mxp\u001b[0m\u001b[0;34m.\u001b[0m\u001b[0masarray\u001b[0m\u001b[0;34m(\u001b[0m\u001b[0marray\u001b[0m\u001b[0;34m,\u001b[0m \u001b[0mcopy\u001b[0m\u001b[0;34m=\u001b[0m\u001b[0mcopy\u001b[0m\u001b[0;34m)\u001b[0m\u001b[0;34m\u001b[0m\u001b[0;34m\u001b[0m\u001b[0m\n\u001b[1;32m    187\u001b[0m     \u001b[0;32melse\u001b[0m\u001b[0;34m:\u001b[0m\u001b[0;34m\u001b[0m\u001b[0;34m\u001b[0m\u001b[0m\n",
            "\u001b[0;31mValueError\u001b[0m: setting an array element with a sequence."
          ]
        }
      ]
    },
    {
      "cell_type": "code",
      "source": [
        "plt.scatter(Y[:, 0], Y[:, 1])"
      ],
      "metadata": {
        "colab": {
          "base_uri": "https://localhost:8080/",
          "height": 176
        },
        "id": "EndBjZqtFRol",
        "outputId": "3d8bb221-8f86-40fb-eee3-56d6f69438d0"
      },
      "execution_count": 35,
      "outputs": [
        {
          "output_type": "error",
          "ename": "NameError",
          "evalue": "ignored",
          "traceback": [
            "\u001b[0;31m---------------------------------------------------------------------------\u001b[0m",
            "\u001b[0;31mNameError\u001b[0m                                 Traceback (most recent call last)",
            "\u001b[0;32m<ipython-input-35-a65a28495a40>\u001b[0m in \u001b[0;36m<cell line: 1>\u001b[0;34m()\u001b[0m\n\u001b[0;32m----> 1\u001b[0;31m \u001b[0mplt\u001b[0m\u001b[0;34m.\u001b[0m\u001b[0mscatter\u001b[0m\u001b[0;34m(\u001b[0m\u001b[0mY\u001b[0m\u001b[0;34m[\u001b[0m\u001b[0;34m:\u001b[0m\u001b[0;34m,\u001b[0m \u001b[0;36m0\u001b[0m\u001b[0;34m]\u001b[0m\u001b[0;34m,\u001b[0m \u001b[0mY\u001b[0m\u001b[0;34m[\u001b[0m\u001b[0;34m:\u001b[0m\u001b[0;34m,\u001b[0m \u001b[0;36m1\u001b[0m\u001b[0;34m]\u001b[0m\u001b[0;34m)\u001b[0m\u001b[0;34m\u001b[0m\u001b[0;34m\u001b[0m\u001b[0m\n\u001b[0m",
            "\u001b[0;31mNameError\u001b[0m: name 'Y' is not defined"
          ]
        }
      ]
    },
    {
      "cell_type": "code",
      "source": [
        "for label, x, y in zip(words, X[:, 0], Y[:, 1]):\n",
        "    plt.annotate(label, xy=(x, y), xytext=(0, 0), textcoords=\"offset points\")\n",
        "plt.show()"
      ],
      "metadata": {
        "id": "5xQ6t6TIFUOU"
      },
      "execution_count": null,
      "outputs": []
    },
    {
      "cell_type": "code",
      "source": [],
      "metadata": {
        "id": "KHlSHPhbFXEn"
      },
      "execution_count": null,
      "outputs": []
    }
  ]
}